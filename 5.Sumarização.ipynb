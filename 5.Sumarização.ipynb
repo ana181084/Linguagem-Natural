{
  "nbformat": 4,
  "nbformat_minor": 0,
  "metadata": {
    "kernelspec": {
      "display_name": "Python 3",
      "language": "python",
      "name": "python3"
    },
    "language_info": {
      "codemirror_mode": {
        "name": "ipython",
        "version": 3
      },
      "file_extension": ".py",
      "mimetype": "text/x-python",
      "name": "python",
      "nbconvert_exporter": "python",
      "pygments_lexer": "ipython3",
      "version": "3.7.4"
    },
    "colab": {
      "name": "_Aula 5 - CD O1T2(Ana Carolina).ipynb",
      "provenance": [],
      "collapsed_sections": [],
      "toc_visible": true
    }
  },
  "cells": [
    {
      "cell_type": "code",
      "metadata": {
        "id": "vzhN-4y0IxMX"
      },
      "source": [
        "import yaml\n",
        "import re\n",
        "import nltk\n",
        "from nltk.util import ngrams\n",
        "from nltk.corpus import stopwords\n",
        "import string\n",
        "import gensim\n",
        "from gensim import corpora\n",
        "from os import listdir\n",
        "from os.path import isfile, join\n",
        "from bs4 import BeautifulSoup\n",
        "import requests\n",
        "from nltk.tokenize import sent_tokenize, word_tokenize\n",
        "import numpy as np\n",
        "import operator\n",
        "import networkx as nx\n",
        "from sklearn.feature_extraction.text import CountVectorizer\n",
        "from sklearn.feature_extraction.text import TfidfVectorizer\n",
        "from sklearn.metrics.pairwise import cosine_similarity\n",
        "import warnings\n",
        "warnings.filterwarnings('ignore')"
      ],
      "execution_count": null,
      "outputs": []
    },
    {
      "cell_type": "markdown",
      "metadata": {
        "id": "pGbzFkWDIxMe"
      },
      "source": [
        "# LDA"
      ]
    },
    {
      "cell_type": "markdown",
      "metadata": {
        "id": "-F7r_zQ0IxMf"
      },
      "source": [
        "\n",
        "<b> Atividades </b>\n",
        "\n",
        "1) Faça download dos arquivos no link: https://drive.google.com/open?id=1PgGJ2OBFSKnr3O0RIgO2EvgbLh_avRJN\n",
        "\n",
        "2) Carregue os quatro documentos. Para carregar um arquivo ``yml``, siga o exemplo abaixo:\n",
        "```python\n",
        "with open('data/chats/file.yml') as file:\n",
        "    chat = yaml.load(file)\n",
        "```\n",
        "<b> Dica: adicione os 4 documentos em um único dicionário </b>"
      ]
    },
    {
      "cell_type": "code",
      "metadata": {
        "id": "J3hXrzGGIxMg",
        "colab": {
          "base_uri": "https://localhost:8080/"
        },
        "outputId": "30d28f51-5a10-4200-977f-421207cd4e4b"
      },
      "source": [
        "from google.colab import drive\n",
        "drive.mount('/content/drive')"
      ],
      "execution_count": null,
      "outputs": [
        {
          "output_type": "stream",
          "name": "stdout",
          "text": [
            "Mounted at /content/drive\n"
          ]
        }
      ]
    },
    {
      "cell_type": "code",
      "source": [
        "mypath = '/content/drive/MyDrive/Pratica/'\n",
        "\n",
        "files = [ f for f in listdir(mypath) if isfile(join(mypath,f))]"
      ],
      "metadata": {
        "id": "fYb_XWBpjfuv"
      },
      "execution_count": null,
      "outputs": []
    },
    {
      "cell_type": "code",
      "source": [
        "files "
      ],
      "metadata": {
        "colab": {
          "base_uri": "https://localhost:8080/"
        },
        "id": "gQ75WPmvkPb7",
        "outputId": "474743dd-ee31-492d-cf99-054a3696292e"
      },
      "execution_count": null,
      "outputs": [
        {
          "output_type": "execute_result",
          "data": {
            "text/plain": [
              "['money.yml', 'proverbs.yml', 'linguistic_knowledge.yml', 'games.yml']"
            ]
          },
          "metadata": {},
          "execution_count": 8
        }
      ]
    },
    {
      "cell_type": "code",
      "source": [
        "all_chats ={}\n",
        "for f in files:\n",
        "  print(\"file\",f)\n",
        "  with open(mypath+f) as file:\n",
        "    chat=yaml.load(file)\n",
        "    all_chats[chat['categories'][0]]=chat['conversations']   "
      ],
      "metadata": {
        "colab": {
          "base_uri": "https://localhost:8080/"
        },
        "id": "iFY64rhRlAHo",
        "outputId": "194a3c27-cf5a-4da9-996e-8e4cadb4e19d"
      },
      "execution_count": null,
      "outputs": [
        {
          "output_type": "stream",
          "name": "stdout",
          "text": [
            "file money.yml\n",
            "file proverbs.yml\n",
            "file linguistic_knowledge.yml\n",
            "file games.yml\n"
          ]
        }
      ]
    },
    {
      "cell_type": "markdown",
      "metadata": {
        "id": "e7H68OXiIxMk"
      },
      "source": [
        "<b> Atividade </b>\n",
        "\n",
        "A variável ``chat`` é um dicionário, que possui a chave ``conversations``, que contém várias listas. Dentro de cada lista, existe um par de frases, uma escrita por um humano e outra escrita por um robô. Neste exercício, só iremos considerar a frase do humano, ou seja, a primeira posição do par nas listas.\n",
        "Exemplo:\n",
        "\n",
        "```python\n",
        "chat = {'categories': ['compliment'],\n",
        "        'conversations': [['você é linda', 'eu sei'],\n",
        "                          ['adoro você', 'também'],\n",
        "                          ['gosto da sua sinceridade', 'que bom']]}\n",
        "```\n",
        "No exemplo acima, iremos considerar apenas as frases: <b> 'você é linda', 'adoro você' e 'gosto da sua sinceridade' </b>.\n",
        "\n",
        "Um documento no LDA é representado por uma única lista. Ou seja, as listas de frases selecionadas no exemplo anterior se tornarão uma única lista: <b> ['você é linda adoro você e gosto da sua sinceridade'] </b>\n",
        "\n",
        "\n",
        "\n",
        "3) Conforme explicado anteriormente, faça as alterações necessárias no dado. Primeiro, considere apenas a frase da primeira posição, depois una todas as listas de frases em uma única lista."
      ]
    },
    {
      "cell_type": "code",
      "source": [
        "' '.join([chat[0] for chat in all_chats['games']])"
      ],
      "metadata": {
        "colab": {
          "base_uri": "https://localhost:8080/",
          "height": 69
        },
        "id": "pe9YZTLMpEiX",
        "outputId": "3bd8d361-a944-42b1-948a-b85a51a36e28"
      },
      "execution_count": null,
      "outputs": [
        {
          "output_type": "execute_result",
          "data": {
            "text/plain": [
              "\"Você gosta de algum jogo? O que acha do Mario? O que acha do Sonic? O que acha do Pacman? O que acha do Assassin's Creed? O que acha do League of Legends? O que acha do Dota 2? Devo comprar um console? Mario ou Sonic? Conhece um programa chamado Discord? Conhece um programa chamado Team Speak? Conhece um programa chamado Skype? Você joga em consoles? Você acompanha o cenário de e-Sports? Você prefere PC ou console?\""
            ],
            "application/vnd.google.colaboratory.intrinsic+json": {
              "type": "string"
            }
          },
          "metadata": {},
          "execution_count": 10
        }
      ]
    },
    {
      "cell_type": "code",
      "metadata": {
        "id": "iCfScHVGIxMl"
      },
      "source": [
        "for k in all_chats.keys():\n",
        "  all_chats[k] = ' '.join([chat[0] for chat in all_chats[k]])"
      ],
      "execution_count": null,
      "outputs": []
    },
    {
      "cell_type": "code",
      "source": [
        "all_chats"
      ],
      "metadata": {
        "colab": {
          "base_uri": "https://localhost:8080/"
        },
        "id": "JK8NXUTswM5A",
        "outputId": "78322207-38c7-4636-d1d9-c68f4fa7239d"
      },
      "execution_count": null,
      "outputs": [
        {
          "output_type": "execute_result",
          "data": {
            "text/plain": [
              "{'conhecimento linguístico': 'o que é linguística? o que é um verbo? estuda quem foi Saussure? O que é uma Gramática O que é um substantivo? quem é Noam Chomsky? o que é um sujeito? Quem é Marcos Bagno? Quais os livros que todo estudante de Letras deve ter? Quais as áreas da Linguística? Quando uso o porque, o por que, o porquê e o porquê? Pode explicar o uso dos porquês? Qual a forma correta, concerteza ou com certeza? O que são as figuras de linguagem? o que é um pronome? o que é a ANPOLL? Quando será realizado o próximo SIC? Quais os pronomes pessoais do caso reto? Quem é o autor de Análise de Textos de Comunicação? O que é um advérbio? O que é a langue? O que é a parole O que é letramento? O que é a alfabetização?',\n",
              " 'games': \"Você gosta de algum jogo? O que acha do Mario? O que acha do Sonic? O que acha do Pacman? O que acha do Assassin's Creed? O que acha do League of Legends? O que acha do Dota 2? Devo comprar um console? Mario ou Sonic? Conhece um programa chamado Discord? Conhece um programa chamado Team Speak? Conhece um programa chamado Skype? Você joga em consoles? Você acompanha o cenário de e-Sports? Você prefere PC ou console?\",\n",
              " 'money': 'Você é pago mercado de ações mercado de ações mercado de ações mercado de ações mercado de ações mercado de ações mercado de ações mercado de ações taxa de juros o que é um dólar o que é dinheiro o que é o mercado de ações o que é o mercado de ações o que é o mercado de ações Qual é o seu investimento favorito? o que é economia o que é economia o que é economia eu faço estoque dinheiro quanto é que você ganha quanto é que você ganha quanto é que você ganha quanto você cobra quanto dinheiro você tem quanto dinheiro quanto dinheiro 1 dólar 1 real quem é o dono de um público',\n",
              " 'proverbs': 'Na casa do médico, todos estão doentes Ele insistiu tanto com ela que conseguiu casar-se Precisei pregar o prego, mas não tinha um martelo, então, preguei com uma pequena barra de ferro Ganhei o livro O Quinze, mas queria O Sagarana Sozinha não conseguirei concluir o trabalho Estava tudo combinado para a festa quando o pai dele chegou Você tem de ser paciente ao conversar com ela Cedo ou tarde a verdade vai aparecer Machocou e agora est· sendo machucado Melhor ter pouco que ambicionar muito e perder tudo Faça o trabalho devagar, mas bem feito Me desacatou, mas permaneci calada Depois que foi atropelado, só atravessa na faixa de pedestre com o farol fechado para os carros Ele fica lembrando da época que era piloto Quer bem feito, faça você mesmo! Se você continuar pisando na bola, vou ter de tomar uma providência! Mesmo sem saber direito como chegar ao evento, vou perguntando até achar Vou a agência de empregos amanhã de manhã Cuide da sua vida que eu cuido da minha Sou precavida! Ele não dispensa nada Tornou-se advogado, como o pai Ela merece perdão pelo seu erro Com as moedas que juntou no cofrinho, conseguiu comprar um carro zero Comprou uma impressora mais barata, mas deu defeito em dois meses O assunto veio ‡ tona, não foi por acaso Ela não pensa antes de falar e se denuncia a si mesma … preciso ter paciência para vencer Ela afirmou que nunca mais precisaria voltar· Minha namorada está me evitando, embora ela não confirme, sei que ela quer um tempo Finalmente consegui comprar aquele ingresso! Esqueci de levar o protetor solar, mas meu amigo trouxe e me emprestou. O celular era muito bonito na propaganda, mas ao vivo era muito ruim.'}"
            ]
          },
          "metadata": {},
          "execution_count": 12
        }
      ]
    },
    {
      "cell_type": "markdown",
      "metadata": {
        "id": "6kkAlOocIxMq"
      },
      "source": [
        "<b> Atividade </b>\n",
        "\n",
        "4) Faça uma limpeza nos dados carregados e processados do passo anterior. Aplique:\n",
        "- tokenização\n",
        "- lower\n",
        "- remoção stopwords\n",
        "- remoção pontuação\n",
        "\n",
        "Ao final você deve obter uma lista com todos os documentos e em cada documento as palavras tokenizadas, exemplo:\n",
        "\n",
        "```python\n",
        "[['oi', 'tudo', 'bem'],\n",
        " ['mario', 'game', 'jogo']]\n",
        "```"
      ]
    },
    {
      "cell_type": "code",
      "source": [
        "import nltk\n",
        "nltk.download('stopwords')"
      ],
      "metadata": {
        "colab": {
          "base_uri": "https://localhost:8080/"
        },
        "id": "kGr2gyabwswv",
        "outputId": "023a729f-07f4-4fdd-a070-0472e090dfd6"
      },
      "execution_count": null,
      "outputs": [
        {
          "output_type": "stream",
          "name": "stdout",
          "text": [
            "[nltk_data] Downloading package stopwords to /root/nltk_data...\n",
            "[nltk_data]   Unzipping corpora/stopwords.zip.\n"
          ]
        },
        {
          "output_type": "execute_result",
          "data": {
            "text/plain": [
              "True"
            ]
          },
          "metadata": {},
          "execution_count": 13
        }
      ]
    },
    {
      "cell_type": "code",
      "metadata": {
        "id": "3ayE7l9DIxMs"
      },
      "source": [
        "def pre_processamento_texto(corpus):\n",
        "  #print('Document')\n",
        "  #print(\"#Tokenização\")\n",
        "  corpus_alt = re.findall(r\"\\w+(?:'\\w+)?|[^\\w\\s]\", corpus)\n",
        "  #lowcase\n",
        "  corpus_alt = [ t.lower() for t in corpus_alt  ]\n",
        "  #print('remove stopwords')\n",
        "  portuguse_stops = stopwords.words('portuguese')\n",
        "  corpus_alt = [t for  t in corpus_alt if t not in portuguse_stops]\n",
        "  #print('remove numeros')\n",
        "  corpus_alt = [re.sub(r'\\d','',t) for t in  corpus_alt]\n",
        "  #print('remove pontuação')\n",
        "  corpus_alt = [t for  t in corpus_alt if t not in string.punctuation]\n",
        "  #print('remove acentos')\n",
        "  #corpus_alt = [unidecode(t) for t in  corpus_alt]\n",
        "  return corpus_alt"
      ],
      "execution_count": null,
      "outputs": []
    },
    {
      "cell_type": "code",
      "source": [
        "all_charts_limpo = []\n",
        "for k in all_chats.keys():\n",
        "  print(pre_processamento_texto(all_chats[k]))"
      ],
      "metadata": {
        "colab": {
          "base_uri": "https://localhost:8080/"
        },
        "id": "T4hpfhrjw2In",
        "outputId": "a0ee6528-a5e5-4310-d957-9e987daffdb4"
      },
      "execution_count": null,
      "outputs": [
        {
          "output_type": "stream",
          "name": "stdout",
          "text": [
            "['pago', 'mercado', 'ações', 'mercado', 'ações', 'mercado', 'ações', 'mercado', 'ações', 'mercado', 'ações', 'mercado', 'ações', 'mercado', 'ações', 'mercado', 'ações', 'taxa', 'juros', 'dólar', 'dinheiro', 'mercado', 'ações', 'mercado', 'ações', 'mercado', 'ações', 'investimento', 'favorito', 'economia', 'economia', 'economia', 'faço', 'estoque', 'dinheiro', 'quanto', 'ganha', 'quanto', 'ganha', 'quanto', 'ganha', 'quanto', 'cobra', 'quanto', 'dinheiro', 'quanto', 'dinheiro', 'quanto', 'dinheiro', 'dólar', 'real', 'dono', 'público']\n",
            "['casa', 'médico', 'todos', 'doentes', 'insistiu', 'tanto', 'conseguiu', 'casar', 'precisei', 'pregar', 'prego', 'martelo', 'então', 'preguei', 'pequena', 'barra', 'ferro', 'ganhei', 'livro', 'quinze', 'queria', 'sagarana', 'sozinha', 'conseguirei', 'concluir', 'trabalho', 'tudo', 'combinado', 'festa', 'pai', 'chegou', 'ser', 'paciente', 'conversar', 'cedo', 'tarde', 'verdade', 'vai', 'aparecer', 'machocou', 'agora', 'est', '·', 'sendo', 'machucado', 'melhor', 'ter', 'pouco', 'ambicionar', 'perder', 'tudo', 'faça', 'trabalho', 'devagar', 'bem', 'feito', 'desacatou', 'permaneci', 'calada', 'atropelado', 'atravessa', 'faixa', 'pedestre', 'farol', 'fechado', 'carros', 'fica', 'lembrando', 'época', 'piloto', 'quer', 'bem', 'feito', 'faça', 'continuar', 'pisando', 'bola', 'vou', 'ter', 'tomar', 'providência', 'saber', 'direito', 'chegar', 'evento', 'vou', 'perguntando', 'achar', 'vou', 'agência', 'empregos', 'amanhã', 'manhã', 'cuide', 'vida', 'cuido', 'precavida', 'dispensa', 'nada', 'tornou', 'advogado', 'pai', 'merece', 'perdão', 'erro', 'moedas', 'juntou', 'cofrinho', 'conseguiu', 'comprar', 'carro', 'zero', 'comprou', 'impressora', 'barata', 'deu', 'defeito', 'dois', 'meses', 'assunto', 'veio', '‡', 'tona', 'acaso', 'pensa', 'antes', 'falar', 'denuncia', 'si', 'mesma', '…', 'preciso', 'ter', 'paciência', 'vencer', 'afirmou', 'nunca', 'precisaria', 'voltar', '·', 'namorada', 'evitando', 'embora', 'confirme', 'sei', 'quer', 'tempo', 'finalmente', 'consegui', 'comprar', 'ingresso', 'esqueci', 'levar', 'protetor', 'solar', 'amigo', 'trouxe', 'emprestou', 'celular', 'bonito', 'propaganda', 'vivo', 'ruim']\n",
            "['linguística', 'verbo', 'estuda', 'saussure', 'gramática', 'substantivo', 'noam', 'chomsky', 'sujeito', 'marcos', 'bagno', 'quais', 'livros', 'todo', 'estudante', 'letras', 'deve', 'ter', 'quais', 'áreas', 'linguística', 'uso', 'porque', 'porquê', 'porquê', 'pode', 'explicar', 'uso', 'porquês', 'forma', 'correta', 'concerteza', 'certeza', 'figuras', 'linguagem', 'pronome', 'anpoll', 'realizado', 'próximo', 'sic', 'quais', 'pronomes', 'pessoais', 'caso', 'reto', 'autor', 'análise', 'textos', 'comunicação', 'advérbio', 'langue', 'parole', 'letramento', 'alfabetização']\n",
            "['gosta', 'algum', 'jogo', 'acha', 'mario', 'acha', 'sonic', 'acha', 'pacman', 'acha', \"assassin's\", 'creed', 'acha', 'league', 'of', 'legends', 'acha', 'dota', 'devo', 'comprar', 'console', 'mario', 'sonic', 'conhece', 'programa', 'chamado', 'discord', 'conhece', 'programa', 'chamado', 'team', 'speak', 'conhece', 'programa', 'chamado', 'skype', 'joga', 'consoles', 'acompanha', 'cenário', 'sports', 'prefere', 'pc', 'console']\n"
          ]
        }
      ]
    },
    {
      "cell_type": "code",
      "source": [
        "all_charts_limpo = []\n",
        "for k in all_chats.keys():\n",
        " all_charts_limpo.append(pre_processamento_texto(all_chats[k]))"
      ],
      "metadata": {
        "id": "Ag5VwgAf07sX"
      },
      "execution_count": null,
      "outputs": []
    },
    {
      "cell_type": "code",
      "source": [
        "all_charts_limpo"
      ],
      "metadata": {
        "colab": {
          "base_uri": "https://localhost:8080/"
        },
        "id": "byinDqwx1e9N",
        "outputId": "f7b28a91-2321-4129-9484-52956179e228"
      },
      "execution_count": null,
      "outputs": [
        {
          "output_type": "execute_result",
          "data": {
            "text/plain": [
              "[['pago',\n",
              "  'mercado',\n",
              "  'ações',\n",
              "  'mercado',\n",
              "  'ações',\n",
              "  'mercado',\n",
              "  'ações',\n",
              "  'mercado',\n",
              "  'ações',\n",
              "  'mercado',\n",
              "  'ações',\n",
              "  'mercado',\n",
              "  'ações',\n",
              "  'mercado',\n",
              "  'ações',\n",
              "  'mercado',\n",
              "  'ações',\n",
              "  'taxa',\n",
              "  'juros',\n",
              "  'dólar',\n",
              "  'dinheiro',\n",
              "  'mercado',\n",
              "  'ações',\n",
              "  'mercado',\n",
              "  'ações',\n",
              "  'mercado',\n",
              "  'ações',\n",
              "  'investimento',\n",
              "  'favorito',\n",
              "  'economia',\n",
              "  'economia',\n",
              "  'economia',\n",
              "  'faço',\n",
              "  'estoque',\n",
              "  'dinheiro',\n",
              "  'quanto',\n",
              "  'ganha',\n",
              "  'quanto',\n",
              "  'ganha',\n",
              "  'quanto',\n",
              "  'ganha',\n",
              "  'quanto',\n",
              "  'cobra',\n",
              "  'quanto',\n",
              "  'dinheiro',\n",
              "  'quanto',\n",
              "  'dinheiro',\n",
              "  'quanto',\n",
              "  'dinheiro',\n",
              "  'dólar',\n",
              "  'real',\n",
              "  'dono',\n",
              "  'público'],\n",
              " ['casa',\n",
              "  'médico',\n",
              "  'todos',\n",
              "  'doentes',\n",
              "  'insistiu',\n",
              "  'tanto',\n",
              "  'conseguiu',\n",
              "  'casar',\n",
              "  'precisei',\n",
              "  'pregar',\n",
              "  'prego',\n",
              "  'martelo',\n",
              "  'então',\n",
              "  'preguei',\n",
              "  'pequena',\n",
              "  'barra',\n",
              "  'ferro',\n",
              "  'ganhei',\n",
              "  'livro',\n",
              "  'quinze',\n",
              "  'queria',\n",
              "  'sagarana',\n",
              "  'sozinha',\n",
              "  'conseguirei',\n",
              "  'concluir',\n",
              "  'trabalho',\n",
              "  'tudo',\n",
              "  'combinado',\n",
              "  'festa',\n",
              "  'pai',\n",
              "  'chegou',\n",
              "  'ser',\n",
              "  'paciente',\n",
              "  'conversar',\n",
              "  'cedo',\n",
              "  'tarde',\n",
              "  'verdade',\n",
              "  'vai',\n",
              "  'aparecer',\n",
              "  'machocou',\n",
              "  'agora',\n",
              "  'est',\n",
              "  '·',\n",
              "  'sendo',\n",
              "  'machucado',\n",
              "  'melhor',\n",
              "  'ter',\n",
              "  'pouco',\n",
              "  'ambicionar',\n",
              "  'perder',\n",
              "  'tudo',\n",
              "  'faça',\n",
              "  'trabalho',\n",
              "  'devagar',\n",
              "  'bem',\n",
              "  'feito',\n",
              "  'desacatou',\n",
              "  'permaneci',\n",
              "  'calada',\n",
              "  'atropelado',\n",
              "  'atravessa',\n",
              "  'faixa',\n",
              "  'pedestre',\n",
              "  'farol',\n",
              "  'fechado',\n",
              "  'carros',\n",
              "  'fica',\n",
              "  'lembrando',\n",
              "  'época',\n",
              "  'piloto',\n",
              "  'quer',\n",
              "  'bem',\n",
              "  'feito',\n",
              "  'faça',\n",
              "  'continuar',\n",
              "  'pisando',\n",
              "  'bola',\n",
              "  'vou',\n",
              "  'ter',\n",
              "  'tomar',\n",
              "  'providência',\n",
              "  'saber',\n",
              "  'direito',\n",
              "  'chegar',\n",
              "  'evento',\n",
              "  'vou',\n",
              "  'perguntando',\n",
              "  'achar',\n",
              "  'vou',\n",
              "  'agência',\n",
              "  'empregos',\n",
              "  'amanhã',\n",
              "  'manhã',\n",
              "  'cuide',\n",
              "  'vida',\n",
              "  'cuido',\n",
              "  'precavida',\n",
              "  'dispensa',\n",
              "  'nada',\n",
              "  'tornou',\n",
              "  'advogado',\n",
              "  'pai',\n",
              "  'merece',\n",
              "  'perdão',\n",
              "  'erro',\n",
              "  'moedas',\n",
              "  'juntou',\n",
              "  'cofrinho',\n",
              "  'conseguiu',\n",
              "  'comprar',\n",
              "  'carro',\n",
              "  'zero',\n",
              "  'comprou',\n",
              "  'impressora',\n",
              "  'barata',\n",
              "  'deu',\n",
              "  'defeito',\n",
              "  'dois',\n",
              "  'meses',\n",
              "  'assunto',\n",
              "  'veio',\n",
              "  '‡',\n",
              "  'tona',\n",
              "  'acaso',\n",
              "  'pensa',\n",
              "  'antes',\n",
              "  'falar',\n",
              "  'denuncia',\n",
              "  'si',\n",
              "  'mesma',\n",
              "  '…',\n",
              "  'preciso',\n",
              "  'ter',\n",
              "  'paciência',\n",
              "  'vencer',\n",
              "  'afirmou',\n",
              "  'nunca',\n",
              "  'precisaria',\n",
              "  'voltar',\n",
              "  '·',\n",
              "  'namorada',\n",
              "  'evitando',\n",
              "  'embora',\n",
              "  'confirme',\n",
              "  'sei',\n",
              "  'quer',\n",
              "  'tempo',\n",
              "  'finalmente',\n",
              "  'consegui',\n",
              "  'comprar',\n",
              "  'ingresso',\n",
              "  'esqueci',\n",
              "  'levar',\n",
              "  'protetor',\n",
              "  'solar',\n",
              "  'amigo',\n",
              "  'trouxe',\n",
              "  'emprestou',\n",
              "  'celular',\n",
              "  'bonito',\n",
              "  'propaganda',\n",
              "  'vivo',\n",
              "  'ruim'],\n",
              " ['linguística',\n",
              "  'verbo',\n",
              "  'estuda',\n",
              "  'saussure',\n",
              "  'gramática',\n",
              "  'substantivo',\n",
              "  'noam',\n",
              "  'chomsky',\n",
              "  'sujeito',\n",
              "  'marcos',\n",
              "  'bagno',\n",
              "  'quais',\n",
              "  'livros',\n",
              "  'todo',\n",
              "  'estudante',\n",
              "  'letras',\n",
              "  'deve',\n",
              "  'ter',\n",
              "  'quais',\n",
              "  'áreas',\n",
              "  'linguística',\n",
              "  'uso',\n",
              "  'porque',\n",
              "  'porquê',\n",
              "  'porquê',\n",
              "  'pode',\n",
              "  'explicar',\n",
              "  'uso',\n",
              "  'porquês',\n",
              "  'forma',\n",
              "  'correta',\n",
              "  'concerteza',\n",
              "  'certeza',\n",
              "  'figuras',\n",
              "  'linguagem',\n",
              "  'pronome',\n",
              "  'anpoll',\n",
              "  'realizado',\n",
              "  'próximo',\n",
              "  'sic',\n",
              "  'quais',\n",
              "  'pronomes',\n",
              "  'pessoais',\n",
              "  'caso',\n",
              "  'reto',\n",
              "  'autor',\n",
              "  'análise',\n",
              "  'textos',\n",
              "  'comunicação',\n",
              "  'advérbio',\n",
              "  'langue',\n",
              "  'parole',\n",
              "  'letramento',\n",
              "  'alfabetização'],\n",
              " ['gosta',\n",
              "  'algum',\n",
              "  'jogo',\n",
              "  'acha',\n",
              "  'mario',\n",
              "  'acha',\n",
              "  'sonic',\n",
              "  'acha',\n",
              "  'pacman',\n",
              "  'acha',\n",
              "  \"assassin's\",\n",
              "  'creed',\n",
              "  'acha',\n",
              "  'league',\n",
              "  'of',\n",
              "  'legends',\n",
              "  'acha',\n",
              "  'dota',\n",
              "  'devo',\n",
              "  'comprar',\n",
              "  'console',\n",
              "  'mario',\n",
              "  'sonic',\n",
              "  'conhece',\n",
              "  'programa',\n",
              "  'chamado',\n",
              "  'discord',\n",
              "  'conhece',\n",
              "  'programa',\n",
              "  'chamado',\n",
              "  'team',\n",
              "  'speak',\n",
              "  'conhece',\n",
              "  'programa',\n",
              "  'chamado',\n",
              "  'skype',\n",
              "  'joga',\n",
              "  'consoles',\n",
              "  'acompanha',\n",
              "  'cenário',\n",
              "  'sports',\n",
              "  'prefere',\n",
              "  'pc',\n",
              "  'console']]"
            ]
          },
          "metadata": {},
          "execution_count": 17
        }
      ]
    },
    {
      "cell_type": "markdown",
      "metadata": {
        "id": "L6lfbAM2IxMx"
      },
      "source": [
        "<b> Atividade </b>\n",
        "\n",
        "5) Crie um dicionário com nosso corpus, de forma que cada termo único (valor) possua um índice (chave). \n",
        "\n",
        "Dica: \n",
        "- utilize o ```gensim.corpora.Dictionary ``` para criar este dicionário. \n",
        "- utilize o texto pré-processado"
      ]
    },
    {
      "cell_type": "code",
      "metadata": {
        "id": "_dtZTj-oIxMy"
      },
      "source": [
        "dicionario = gensim.corpora.Dictionary(all_charts_limpo)"
      ],
      "execution_count": null,
      "outputs": []
    },
    {
      "cell_type": "code",
      "source": [
        "len(dicionario)"
      ],
      "metadata": {
        "colab": {
          "base_uri": "https://localhost:8080/"
        },
        "id": "SH-gshzC81Bq",
        "outputId": "cad38493-54b6-42e1-898f-bb30eab9649f"
      },
      "execution_count": null,
      "outputs": [
        {
          "output_type": "execute_result",
          "data": {
            "text/plain": [
              "244"
            ]
          },
          "metadata": {},
          "execution_count": 19
        }
      ]
    },
    {
      "cell_type": "code",
      "source": [
        "dicionario.doc2bow(all_charts_limpo[2])"
      ],
      "metadata": {
        "colab": {
          "base_uri": "https://localhost:8080/"
        },
        "id": "vMoq8JF787TC",
        "outputId": "6ca537cd-5d70-42a8-f3cd-2283a2c73895"
      },
      "execution_count": null,
      "outputs": [
        {
          "output_type": "execute_result",
          "data": {
            "text/plain": [
              "[(146, 1),\n",
              " (167, 1),\n",
              " (168, 1),\n",
              " (169, 1),\n",
              " (170, 1),\n",
              " (171, 1),\n",
              " (172, 1),\n",
              " (173, 1),\n",
              " (174, 1),\n",
              " (175, 1),\n",
              " (176, 1),\n",
              " (177, 1),\n",
              " (178, 1),\n",
              " (179, 1),\n",
              " (180, 1),\n",
              " (181, 1),\n",
              " (182, 1),\n",
              " (183, 1),\n",
              " (184, 1),\n",
              " (185, 1),\n",
              " (186, 1),\n",
              " (187, 1),\n",
              " (188, 1),\n",
              " (189, 1),\n",
              " (190, 2),\n",
              " (191, 1),\n",
              " (192, 1),\n",
              " (193, 1),\n",
              " (194, 1),\n",
              " (195, 1),\n",
              " (196, 1),\n",
              " (197, 1),\n",
              " (198, 2),\n",
              " (199, 1),\n",
              " (200, 1),\n",
              " (201, 1),\n",
              " (202, 1),\n",
              " (203, 3),\n",
              " (204, 1),\n",
              " (205, 1),\n",
              " (206, 1),\n",
              " (207, 1),\n",
              " (208, 1),\n",
              " (209, 1),\n",
              " (210, 1),\n",
              " (211, 1),\n",
              " (212, 2),\n",
              " (213, 1),\n",
              " (214, 1)]"
            ]
          },
          "metadata": {},
          "execution_count": 20
        }
      ]
    },
    {
      "cell_type": "markdown",
      "metadata": {
        "id": "vEA7Qh9gIxM2"
      },
      "source": [
        "<b> Atividade </b>\n",
        "\n",
        "6) Converta os documentos em índices, utilizando o método ```doc2bow``` em cada documento."
      ]
    },
    {
      "cell_type": "code",
      "metadata": {
        "id": "qqOLzcwLIxM3"
      },
      "source": [
        "chat_bow = [dicionario.doc2bow(chat) for chat in all_charts_limpo]"
      ],
      "execution_count": null,
      "outputs": []
    },
    {
      "cell_type": "markdown",
      "metadata": {
        "id": "EhhrYOWxIxM8"
      },
      "source": [
        "<b> Atividade </b>\n",
        "\n",
        "7) Aplique o modelo LDA do Gensim nos dados processados acima. O modelo recebe a matriz de índices gerada anteriormente.\n",
        "Abaixo, apresentamos um exemplo de como aplicar o modelo.\n",
        "\n",
        "\n",
        "```python\n",
        "model = gensim.models.ldamodel.LdaModel(doc_term_matrix, num_topics=4, id2word = dictionary, passes=1000, random_state=123)\n",
        "#para mostrar os tópicos:\n",
        "model.show_topics()\n",
        "```\n",
        "\n",
        "Fique a vontade para alterar os parâmetros e fazer testes."
      ]
    },
    {
      "cell_type": "code",
      "source": [
        "model = gensim.models.ldamodel.LdaModel(chat_bow , num_topics=4, id2word = dicionario, passes=1000, random_state=123)\n",
        "# para mostrar os t"
      ],
      "metadata": {
        "id": "aBZ4ou0N_1M8"
      },
      "execution_count": null,
      "outputs": []
    },
    {
      "cell_type": "code",
      "source": [
        "model.show_topics()"
      ],
      "metadata": {
        "colab": {
          "base_uri": "https://localhost:8080/"
        },
        "id": "XniOw-t8__ZP",
        "outputId": "f6787aec-ebf5-4207-f7ec-ba3424987df4"
      },
      "execution_count": null,
      "outputs": [
        {
          "output_type": "execute_result",
          "data": {
            "text/plain": [
              "[(0,\n",
              "  '0.028*\"quais\" + 0.020*\"uso\" + 0.020*\"porquê\" + 0.020*\"linguística\" + 0.011*\"parole\" + 0.011*\"noam\" + 0.011*\"pode\" + 0.011*\"pessoais\" + 0.011*\"verbo\" + 0.011*\"marcos\"'),\n",
              " (1,\n",
              "  '0.015*\"ter\" + 0.015*\"vou\" + 0.010*\"comprar\" + 0.010*\"·\" + 0.010*\"bem\" + 0.010*\"faça\" + 0.010*\"tudo\" + 0.010*\"quer\" + 0.010*\"pai\" + 0.010*\"feito\"'),\n",
              " (2,\n",
              "  '0.099*\"mercado\" + 0.099*\"ações\" + 0.064*\"quanto\" + 0.046*\"dinheiro\" + 0.029*\"economia\" + 0.029*\"ganha\" + 0.020*\"dólar\" + 0.011*\"real\" + 0.011*\"público\" + 0.011*\"pago\"'),\n",
              " (3,\n",
              "  '0.060*\"acha\" + 0.031*\"conhece\" + 0.031*\"programa\" + 0.031*\"chamado\" + 0.021*\"sonic\" + 0.021*\"mario\" + 0.021*\"console\" + 0.012*\"skype\" + 0.012*\"prefere\" + 0.012*\"pc\"')]"
            ]
          },
          "metadata": {},
          "execution_count": 23
        }
      ]
    },
    {
      "cell_type": "markdown",
      "metadata": {
        "id": "bq7LLzSiIxNB"
      },
      "source": [
        "<b> Atividade </b>\n",
        "\n",
        "8) Para responder esta questão utilize os parâmetros sugeridos na questão 7. Analise os grupos gerados anteriormente e responda:\n",
        "- a) Os grupos são bem dividos? Caracterize-os.\n",
        "- b) Dê um nome para cada grupo de tópicos."
      ]
    },
    {
      "cell_type": "markdown",
      "source": [
        "A) Foi considerado 4 tópicos, um tópico por texto. Os grupo foram bem dividos em tópicos conforme os textos repassados."
      ],
      "metadata": {
        "id": "slWueP2uDMeX"
      }
    },
    {
      "cell_type": "markdown",
      "source": [
        "B) Grupo 0 = mercado financeiro\n",
        "Grupo 1 = linguistica\n",
        "Grupo 2 = Proverbios\n",
        "grupo 3 = Games"
      ],
      "metadata": {
        "id": "Rq6pwIPZCw3G"
      }
    },
    {
      "cell_type": "markdown",
      "metadata": {
        "id": "qGEqR-dCIxNJ"
      },
      "source": [
        "# Sumarização\n",
        "\n",
        "Aqui iremos realizar uma sumarização de notíticas com técnicas que vimos nas aulas anteriores."
      ]
    },
    {
      "cell_type": "markdown",
      "metadata": {
        "id": "Uzi9WNp5IxNK"
      },
      "source": [
        "<b> Atividade </b>\n",
        "\n",
        "9) Faça download do texto da seguinte notícia: \n",
        "\n",
        "``https://g1.globo.com/tecnologia/noticia/2022/03/12/instagram-restrito-na-russia-entenda-a-importancia-da-rede-social-para-o-pais-de-putin.ghtml``\n",
        "\n",
        "Dica: para fazer download, consulte a Aula Prática 4."
      ]
    },
    {
      "cell_type": "code",
      "metadata": {
        "id": "HEK_Re-6IxNL"
      },
      "source": [
        "def match_class(target):                                                        \n",
        "    def do_match(tag):                                                          \n",
        "        classes = tag.get('class', [])                                          \n",
        "        return all(c in classes for c in target)                                \n",
        "    return do_match \n",
        "\n",
        "def get_text_url(url):\n",
        "    res = requests.get(url)\n",
        "    html = res.text\n",
        "    soup = BeautifulSoup(html, 'html5lib')\n",
        "    #remove marcações de scripts e style\n",
        "    texto = soup.find_all(match_class([\"content-text__container\"]))\n",
        "    all_text = \"\"\n",
        "    for t in texto:\n",
        "        all_text += t.get_text()\n",
        "    return all_text"
      ],
      "execution_count": null,
      "outputs": []
    },
    {
      "cell_type": "code",
      "source": [
        "texto_noticia = get_text_url('https://g1.globo.com/tecnologia/noticia/2022/03/12/instagram-restrito-na-russia-entenda-a-importancia-da-rede-social-para-o-pais-de-putin.ghtml')"
      ],
      "metadata": {
        "id": "hxI05QkRFsj-"
      },
      "execution_count": null,
      "outputs": []
    },
    {
      "cell_type": "markdown",
      "metadata": {
        "id": "osxILn5uIxNP"
      },
      "source": [
        "<b> Atividade </b>\n",
        "\n",
        "10) Imprima o texto coletado."
      ]
    },
    {
      "cell_type": "code",
      "metadata": {
        "id": "jIZzS17MIxNQ",
        "colab": {
          "base_uri": "https://localhost:8080/"
        },
        "outputId": "11e1e0f2-d3b9-4728-b48a-6831b49c4487"
      },
      "source": [
        "print(texto_noticia)"
      ],
      "execution_count": null,
      "outputs": [
        {
          "output_type": "stream",
          "name": "stdout",
          "text": [
            " A decisão de bloquear o Instagram na Rússia deve ter impactos que vão além da disputa entre o governo russo e a companhia americana, já que o aplicativo é bastante popular no país. A rede social tem 80 milhões de usuários russos, segundo o diretor Adam Mosseri.  A Rússia anunciou que vai restringir o acesso ao Instagram na próxima segunda-feira (14) como resposta à mudança de política para discurso de ódio da Meta, controladora do Instagram e também das plataformas Facebook e WhatsApp.  Na última sexta-feira (11), a empresa americana mudou temporariamente suas regras para permitir que usuários das redes sociais em alguns países defendam atos de violência contra russos no contexto da guerra na Ucrânia (saiba mais ao fim da reportagem).  De acordo com o comunicado do governo russo, a decisão de bloquear o app na segunda dá aos usuários 48 horas para transferirem suas fotos e vídeos para outras redes sociais e notificarem seus contatos e clientes.  Os russos usam muito mais o Instagram do que o Facebook, a rede social com mais usuários no mundo, segundo dados da consultoria eMarketer publicados pela agência France Presse.  O Facebook tinha 7,5 milhões naquele país em 2021, o equivalente a 7,3% dos internautas, contra 51 milhões no Instagram.  O Instagram não divulga dados de usuários por país, mas, na sexta, Mosseri postou que são 80 milhões na Rússia. \"Essa decisão cortará 80 milhões na Rússia uns dos outros e do resto do mundo, já que cerca de 80% das pessoas na Rússia seguem uma conta do Instagram fora de seu país. Isto está errado\", afirmou.  Assim como no Brasil, o aplicativo é extremamente popular entre os russos, tendo se tornado também uma ferramenta de vendas online crucial para muitas pequenas e médias empresas, assim como para artistas e artesãos, que dependem de sua visibilidade nesta plataforma para sobreviver.  A Meta também deverá perder com o bloqueio. Considerando o tamanho da audiência que pode visualizar a publicidade no app, a Rússia é quinto maior mercado para o Instagram – atrás apenas de Estados Unidos, Índia, Brasil e Indonésia, respectivamente. Os dados são de um relatório da agência We Are Social, em parceria com a plataforma Hootsuite.  A restrição ao Instagram se seguirá à do Facebook, que, assim como o Twitter, tem seu acesso restrito no país desde o último dia 4. Por enquanto, ainda não há informações sobre restrições ao WhatsApp na Rússia.  O anúncio do bloqueio do Instagram foi feito pelo Roskomnadzor, órgão que controla mídia e telecomunicações na Rússia. A decisão é uma resposta à mudança de política sobre discurso de ódio da Meta, controladora do Facebook, do WhatsApp e do Instagram.  A companhia americana está temporariamente liberando algumas mensagens que defendem a morte do presidente da Rússia, Vladimir Putin, ou do presidente de Belarus, Alexander Lukashenko, em países que incluem Rússia, Ucrânia e Polônia, segundo uma série de e-mails internos enviados aos moderadores de conteúdo da empresa e vistos pela agência Reuters.  O governo Putin reclamou que \"estão circulando mensagens na rede social Instagram incentivando e provocando atos violentos contra os russos\" e que, por isso, restringiria a rede social.  A Procuradoria-Geral russa pediu ainda que a gigante da internet seja classificada como uma organização \"extremista\".  Em comunicado divulgado na sexta, o vice-presidente de assuntos globais da Meta, Nick Clegg, justificou as mudança nas regras da empresa. “O fato é que, se aplicássemos nossa política padrão de conteúdo sem qualquer ajuste, nós estaríamos removendo conteúdo de cidadãos ucranianos comuns expressando sua resistência e fúria contra as forças invasoras”, apontou Clegg.  O vice-presidente da Meta ressaltou que a companhia não tem nada contra o povo russo e que a plataforma “não vai tolerar russofobia ou qualquer tipo de discriminação, abuso ou violência direcionada aos russos”. \n"
          ]
        }
      ]
    },
    {
      "cell_type": "markdown",
      "metadata": {
        "id": "EnQTLtE4IxNU"
      },
      "source": [
        "<b> Atividade </b>\n",
        "\n",
        "11) Faça a tokenização das sentenças."
      ]
    },
    {
      "cell_type": "code",
      "source": [
        " nltk\n",
        " nltk.download('punkt')"
      ],
      "metadata": {
        "colab": {
          "base_uri": "https://localhost:8080/"
        },
        "id": "-KldwZVXGigI",
        "outputId": "fa4a2053-c885-4627-825e-8002e039fec2"
      },
      "execution_count": null,
      "outputs": [
        {
          "output_type": "stream",
          "name": "stdout",
          "text": [
            "[nltk_data] Downloading package punkt to /root/nltk_data...\n",
            "[nltk_data]   Unzipping tokenizers/punkt.zip.\n"
          ]
        },
        {
          "output_type": "execute_result",
          "data": {
            "text/plain": [
              "True"
            ]
          },
          "metadata": {},
          "execution_count": 27
        }
      ]
    },
    {
      "cell_type": "code",
      "metadata": {
        "id": "TLa2At5ZIxNU"
      },
      "source": [
        "texto_sents = sent_tokenize(texto_noticia)"
      ],
      "execution_count": null,
      "outputs": []
    },
    {
      "cell_type": "code",
      "source": [
        "texto_sents"
      ],
      "metadata": {
        "colab": {
          "base_uri": "https://localhost:8080/"
        },
        "id": "V5L9DFd0GrQO",
        "outputId": "58b61bd7-38de-4be6-ac84-5b6e4f04e3b2"
      },
      "execution_count": null,
      "outputs": [
        {
          "output_type": "execute_result",
          "data": {
            "text/plain": [
              "[' A decisão de bloquear o Instagram na Rússia deve ter impactos que vão além da disputa entre o governo russo e a companhia americana, já que o aplicativo é bastante popular no país.',\n",
              " 'A rede social tem 80 milhões de usuários russos, segundo o diretor Adam Mosseri.',\n",
              " 'A Rússia anunciou que vai restringir o acesso ao Instagram na próxima segunda-feira (14) como resposta à mudança de política para discurso de ódio da Meta, controladora do Instagram e também das plataformas Facebook e WhatsApp.',\n",
              " 'Na última sexta-feira (11), a empresa americana mudou temporariamente suas regras para permitir que usuários das redes sociais em alguns países defendam atos de violência contra russos no contexto da guerra na Ucrânia (saiba mais ao fim da reportagem).',\n",
              " 'De acordo com o comunicado do governo russo, a decisão de bloquear o app na segunda dá aos usuários 48 horas para transferirem suas fotos e vídeos para outras redes sociais e notificarem seus contatos e clientes.',\n",
              " 'Os russos usam muito mais o Instagram do que o Facebook, a rede social com mais usuários no mundo, segundo dados da consultoria eMarketer publicados pela agência France Presse.',\n",
              " 'O Facebook tinha 7,5 milhões naquele país em 2021, o equivalente a 7,3% dos internautas, contra 51 milhões no Instagram.',\n",
              " 'O Instagram não divulga dados de usuários por país, mas, na sexta, Mosseri postou que são 80 milhões na Rússia.',\n",
              " '\"Essa decisão cortará 80 milhões na Rússia uns dos outros e do resto do mundo, já que cerca de 80% das pessoas na Rússia seguem uma conta do Instagram fora de seu país.',\n",
              " 'Isto está errado\", afirmou.',\n",
              " 'Assim como no Brasil, o aplicativo é extremamente popular entre os russos, tendo se tornado também uma ferramenta de vendas online crucial para muitas pequenas e médias empresas, assim como para artistas e artesãos, que dependem de sua visibilidade nesta plataforma para sobreviver.',\n",
              " 'A Meta também deverá perder com o bloqueio.',\n",
              " 'Considerando o tamanho da audiência que pode visualizar a publicidade no app, a Rússia é quinto maior mercado para o Instagram – atrás apenas de Estados Unidos, Índia, Brasil e Indonésia, respectivamente.',\n",
              " 'Os dados são de um relatório da agência We Are Social, em parceria com a plataforma Hootsuite.',\n",
              " 'A restrição ao Instagram se seguirá à do Facebook, que, assim como o Twitter, tem seu acesso restrito no país desde o último dia 4.',\n",
              " 'Por enquanto, ainda não há informações sobre restrições ao WhatsApp na Rússia.',\n",
              " 'O anúncio do bloqueio do Instagram foi feito pelo Roskomnadzor, órgão que controla mídia e telecomunicações na Rússia.',\n",
              " 'A decisão é uma resposta à mudança de política sobre discurso de ódio da Meta, controladora do Facebook, do WhatsApp e do Instagram.',\n",
              " 'A companhia americana está temporariamente liberando algumas mensagens que defendem a morte do presidente da Rússia, Vladimir Putin, ou do presidente de Belarus, Alexander Lukashenko, em países que incluem Rússia, Ucrânia e Polônia, segundo uma série de e-mails internos enviados aos moderadores de conteúdo da empresa e vistos pela agência Reuters.',\n",
              " 'O governo Putin reclamou que \"estão circulando mensagens na rede social Instagram incentivando e provocando atos violentos contra os russos\" e que, por isso, restringiria a rede social.',\n",
              " 'A Procuradoria-Geral russa pediu ainda que a gigante da internet seja classificada como uma organização \"extremista\".',\n",
              " 'Em comunicado divulgado na sexta, o vice-presidente de assuntos globais da Meta, Nick Clegg, justificou as mudança nas regras da empresa.',\n",
              " '“O fato é que, se aplicássemos nossa política padrão de conteúdo sem qualquer ajuste, nós estaríamos removendo conteúdo de cidadãos ucranianos comuns expressando sua resistência e fúria contra as forças invasoras”, apontou Clegg.',\n",
              " 'O vice-presidente da Meta ressaltou que a companhia não tem nada contra o povo russo e que a plataforma “não vai tolerar russofobia ou qualquer tipo de discriminação, abuso ou violência direcionada aos russos”.']"
            ]
          },
          "metadata": {},
          "execution_count": 29
        }
      ]
    },
    {
      "cell_type": "markdown",
      "metadata": {
        "id": "2O3yN7eEIxNa"
      },
      "source": [
        "<b> Atividade </b>\n",
        "\n",
        "12) Aplique o pré-processamento nos dados:\n",
        "\n",
        "- tokenização\n",
        "- lower\n",
        "- remoção stopwords\n",
        "- remoção pontuação"
      ]
    },
    {
      "cell_type": "code",
      "metadata": {
        "id": "M82mOc1jG8iy"
      },
      "source": [
        "def pre_processamento_texto(corpus):\n",
        "  #print('Document')\n",
        "  #print(\"#Tokenização\")\n",
        "  corpus_alt = re.findall(r\"\\w+(?:'\\w+)?|[^\\w\\s]\", corpus)\n",
        "  #lowcase\n",
        "  corpus_alt = [ t.lower() for t in corpus_alt  ]\n",
        "  #print('remove stopwords')\n",
        "  portuguse_stops = stopwords.words('portuguese')\n",
        "  corpus_alt = [t for  t in corpus_alt if t not in portuguse_stops]\n",
        "  #print('remove numeros')\n",
        "  corpus_alt = [re.sub(r'\\d','',t) for t in  corpus_alt]\n",
        "  #print('remove pontuação')\n",
        "  corpus_alt = [t for  t in corpus_alt if t not in string.punctuation]\n",
        "  #print('remove acentos')\n",
        "  #corpus_alt = [unidecode(t) for t in  corpus_alt]\n",
        "  return corpus_alt"
      ],
      "execution_count": null,
      "outputs": []
    },
    {
      "cell_type": "code",
      "source": [
        "texto_limpo = [pre_processamento_texto(sent) for sent in texto_sents]"
      ],
      "metadata": {
        "id": "sw4ZeANEG-xW"
      },
      "execution_count": null,
      "outputs": []
    },
    {
      "cell_type": "markdown",
      "metadata": {
        "id": "N7-clsbXIxNg"
      },
      "source": [
        "<b> Atividade </b>\n",
        "\n",
        "13) Agora iremos implementar a sumarização. Para sumarizar você precisará implementar um método para cada uma das orientações abaixo:"
      ]
    },
    {
      "cell_type": "markdown",
      "metadata": {
        "id": "3w0ojD9zIxNg"
      },
      "source": [
        "13.1) Faça um método que calcule a similaridade entre duas sentenças utilizando a similaridade do conseno. \n",
        "\n",
        "Dica: faça a tranformação aplicando Bag of Words. Consulte a Aula 3."
      ]
    },
    {
      "cell_type": "code",
      "metadata": {
        "id": "q-TMDvqhIxNh"
      },
      "source": [
        "f0 = texto_limpo[0]\n",
        "f1 = texto_limpo[1]"
      ],
      "execution_count": null,
      "outputs": []
    },
    {
      "cell_type": "code",
      "source": [
        "todas_palavras = f1+f0"
      ],
      "metadata": {
        "id": "p1k3_KWAJFIe"
      },
      "execution_count": null,
      "outputs": []
    },
    {
      "cell_type": "code",
      "source": [
        "vect_bag = CountVectorizer(binary = True, analyzer='word')"
      ],
      "metadata": {
        "id": "9zP03B-NJFQ9"
      },
      "execution_count": null,
      "outputs": []
    },
    {
      "cell_type": "code",
      "source": [
        "vect_bag.fit(todas_palavras)"
      ],
      "metadata": {
        "colab": {
          "base_uri": "https://localhost:8080/"
        },
        "id": "UXX8JrDNNSvV",
        "outputId": "83f42ec7-4c2b-4046-8391-2027a5acd3cd"
      },
      "execution_count": null,
      "outputs": [
        {
          "output_type": "execute_result",
          "data": {
            "text/plain": [
              "CountVectorizer(binary=True)"
            ]
          },
          "metadata": {},
          "execution_count": 35
        }
      ]
    },
    {
      "cell_type": "code",
      "source": [
        "f0_bow = vect_bag.transform([' '.join(f0)])\n",
        "f1_bow = vect_bag.transform([' '.join(f1)])"
      ],
      "metadata": {
        "id": "lLYOza_LNSya"
      },
      "execution_count": null,
      "outputs": []
    },
    {
      "cell_type": "code",
      "source": [
        "cosine_similarity(f0_bow,f1_bow)"
      ],
      "metadata": {
        "colab": {
          "base_uri": "https://localhost:8080/"
        },
        "id": "bZfikZNBOFN9",
        "outputId": "980ef40f-4fd1-4d1c-f173-867c6ffaa901"
      },
      "execution_count": null,
      "outputs": [
        {
          "output_type": "execute_result",
          "data": {
            "text/plain": [
              "array([[0.]])"
            ]
          },
          "metadata": {},
          "execution_count": 37
        }
      ]
    },
    {
      "cell_type": "code",
      "source": [
        "def calcula_similaridade(f1,f0):\n",
        "    todas_palavras = f1+f0\n",
        "    vect_bag = CountVectorizer(binary = True, analyzer='word')\n",
        "    vect_bag.fit(todas_palavras)\n",
        "    f0_bow = vect_bag.transform([' '.join(f0)]).todense()\n",
        "    f1_bow = vect_bag.transform([' '.join(f1)]).todense()    \n",
        "    return cosine_similarity(f0_bow,f1_bow)[0][0]"
      ],
      "metadata": {
        "id": "Q9DoQamcP_yj"
      },
      "execution_count": null,
      "outputs": []
    },
    {
      "cell_type": "code",
      "source": [
        "calcula_similaridade(texto_limpo[0],texto_limpo[1])"
      ],
      "metadata": {
        "colab": {
          "base_uri": "https://localhost:8080/"
        },
        "id": "tNjxoGFzP_7F",
        "outputId": "921ea9ba-25c3-48c5-9829-909ff3b2f660"
      },
      "execution_count": null,
      "outputs": [
        {
          "output_type": "execute_result",
          "data": {
            "text/plain": [
              "0.0"
            ]
          },
          "metadata": {},
          "execution_count": 39
        }
      ]
    },
    {
      "cell_type": "markdown",
      "metadata": {
        "id": "ixH4xxUmIxNm"
      },
      "source": [
        "13.2) Faça um método para construir uma matriz de similaridades entre as sentenças. \n",
        "\n",
        "Exemplo, seu texto tem 10 sentenças, você deve construir uma matriz (10,10). A posição (0,1) da matriz corresponderá a similaridade do cosseno entre a sentença 0 e a sentença 1."
      ]
    },
    {
      "cell_type": "code",
      "source": [
        "matriz_similaridade = np.zeros((len(texto_sents),len(texto_sents)))"
      ],
      "metadata": {
        "id": "p_a5P7mXVl0a"
      },
      "execution_count": null,
      "outputs": []
    },
    {
      "cell_type": "code",
      "metadata": {
        "id": "kiLNeKlkIxNm"
      },
      "source": [
        "for linha in range(0,len(texto_sents)):\n",
        "  for coluna in range(0,len(texto_sents)):\n",
        "    if linha==coluna:\n",
        "      continue\n",
        "    matriz_similaridade[linha][coluna]  =  calcula_similaridade(texto_limpo[linha],texto_limpo[coluna])"
      ],
      "execution_count": null,
      "outputs": []
    },
    {
      "cell_type": "code",
      "source": [
        " import pandas as pd\n",
        " pd.DataFrame(matriz_similaridade)"
      ],
      "metadata": {
        "colab": {
          "base_uri": "https://localhost:8080/",
          "height": 896
        },
        "id": "Jp_aE10uUGvb",
        "outputId": "b6a4ae98-8f3a-47e5-ec8d-9d10044ece87"
      },
      "execution_count": null,
      "outputs": [
        {
          "output_type": "execute_result",
          "data": {
            "text/plain": [
              "          0         1         2         3         4         5         6   \\\n",
              "0   0.000000  0.000000  0.108148  0.047140  0.210819  0.058926  0.166667   \n",
              "1   0.000000  0.000000  0.000000  0.133333  0.074536  0.416667  0.117851   \n",
              "2   0.108148  0.000000  0.000000  0.045883  0.051299  0.114708  0.162221   \n",
              "3   0.047140  0.133333  0.045883  0.000000  0.134164  0.100000  0.070711   \n",
              "4   0.210819  0.074536  0.051299  0.134164  0.000000  0.055902  0.000000   \n",
              "5   0.058926  0.416667  0.114708  0.100000  0.055902  0.000000  0.176777   \n",
              "6   0.166667  0.117851  0.162221  0.070711  0.000000  0.176777  0.000000   \n",
              "7   0.223607  0.316228  0.145095  0.126491  0.070711  0.237171  0.335410   \n",
              "8   0.251976  0.089087  0.122628  0.000000  0.059761  0.133631  0.283473   \n",
              "9   0.000000  0.000000  0.000000  0.000000  0.000000  0.000000  0.000000   \n",
              "10  0.098295  0.069505  0.000000  0.041703  0.000000  0.052129  0.000000   \n",
              "11  0.000000  0.000000  0.114708  0.000000  0.000000  0.000000  0.000000   \n",
              "12  0.105409  0.000000  0.102598  0.000000  0.050000  0.055902  0.079057   \n",
              "13  0.000000  0.111111  0.000000  0.000000  0.000000  0.250000  0.000000   \n",
              "14  0.136083  0.000000  0.198680  0.000000  0.000000  0.144338  0.306186   \n",
              "15  0.089087  0.000000  0.173422  0.000000  0.000000  0.000000  0.000000   \n",
              "16  0.149071  0.000000  0.145095  0.000000  0.000000  0.079057  0.111803   \n",
              "17  0.136083  0.000000  0.662266  0.000000  0.064550  0.144338  0.204124   \n",
              "18  0.129099  0.060858  0.041885  0.182574  0.000000  0.091287  0.000000   \n",
              "19  0.121716  0.258199  0.059235  0.154919  0.057735  0.258199  0.182574   \n",
              "20  0.000000  0.000000  0.000000  0.000000  0.000000  0.000000  0.000000   \n",
              "21  0.000000  0.000000  0.122628  0.160357  0.059761  0.000000  0.000000   \n",
              "22  0.000000  0.000000  0.051299  0.044721  0.000000  0.000000  0.079057   \n",
              "23  0.105409  0.074536  0.102598  0.134164  0.050000  0.055902  0.079057   \n",
              "\n",
              "          7         8    9   ...        14        15        16        17  \\\n",
              "0   0.223607  0.251976  0.0  ...  0.136083  0.089087  0.149071  0.136083   \n",
              "1   0.316228  0.089087  0.0  ...  0.000000  0.000000  0.000000  0.000000   \n",
              "2   0.145095  0.122628  0.0  ...  0.198680  0.173422  0.145095  0.662266   \n",
              "3   0.126491  0.000000  0.0  ...  0.000000  0.000000  0.000000  0.000000   \n",
              "4   0.070711  0.059761  0.0  ...  0.000000  0.000000  0.000000  0.064550   \n",
              "5   0.237171  0.133631  0.0  ...  0.144338  0.000000  0.079057  0.144338   \n",
              "6   0.335410  0.283473  0.0  ...  0.306186  0.000000  0.111803  0.204124   \n",
              "7   0.000000  0.338062  0.0  ...  0.182574  0.119523  0.200000  0.091287   \n",
              "8   0.338062  0.000000  0.0  ...  0.154303  0.101015  0.169031  0.154303   \n",
              "9   0.000000  0.000000  0.0  ...  0.000000  0.000000  0.000000  0.000000   \n",
              "10  0.000000  0.000000  0.0  ...  0.060193  0.000000  0.000000  0.000000   \n",
              "11  0.000000  0.000000  0.0  ...  0.000000  0.000000  0.158114  0.144338   \n",
              "12  0.141421  0.119523  0.0  ...  0.064550  0.084515  0.141421  0.064550   \n",
              "13  0.105409  0.000000  0.0  ...  0.000000  0.000000  0.000000  0.000000   \n",
              "14  0.182574  0.154303  0.0  ...  0.000000  0.000000  0.091287  0.166667   \n",
              "15  0.119523  0.101015  0.0  ...  0.000000  0.000000  0.119523  0.218218   \n",
              "16  0.200000  0.169031  0.0  ...  0.091287  0.119523  0.000000  0.091287   \n",
              "17  0.091287  0.154303  0.0  ...  0.166667  0.218218  0.091287  0.000000   \n",
              "18  0.057735  0.048795  0.0  ...  0.000000  0.069007  0.057735  0.000000   \n",
              "19  0.081650  0.069007  0.0  ...  0.074536  0.000000  0.081650  0.074536   \n",
              "20  0.000000  0.000000  0.0  ...  0.000000  0.119523  0.000000  0.000000   \n",
              "21  0.084515  0.000000  0.0  ...  0.000000  0.000000  0.000000  0.154303   \n",
              "22  0.000000  0.000000  0.0  ...  0.000000  0.000000  0.000000  0.064550   \n",
              "23  0.000000  0.000000  0.0  ...  0.000000  0.000000  0.000000  0.064550   \n",
              "\n",
              "          18        19        20        21        22        23  \n",
              "0   0.129099  0.121716  0.000000  0.000000  0.000000  0.105409  \n",
              "1   0.060858  0.258199  0.000000  0.000000  0.000000  0.074536  \n",
              "2   0.041885  0.059235  0.000000  0.122628  0.051299  0.102598  \n",
              "3   0.182574  0.154919  0.000000  0.160357  0.044721  0.134164  \n",
              "4   0.000000  0.057735  0.000000  0.059761  0.000000  0.050000  \n",
              "5   0.091287  0.258199  0.000000  0.000000  0.000000  0.055902  \n",
              "6   0.000000  0.182574  0.000000  0.000000  0.079057  0.079057  \n",
              "7   0.057735  0.081650  0.000000  0.084515  0.000000  0.000000  \n",
              "8   0.048795  0.069007  0.000000  0.000000  0.000000  0.000000  \n",
              "9   0.000000  0.000000  0.000000  0.000000  0.000000  0.000000  \n",
              "10  0.000000  0.053838  0.000000  0.000000  0.000000  0.093250  \n",
              "11  0.000000  0.000000  0.000000  0.133631  0.000000  0.111803  \n",
              "12  0.040825  0.057735  0.000000  0.000000  0.000000  0.000000  \n",
              "13  0.060858  0.086066  0.000000  0.000000  0.000000  0.074536  \n",
              "14  0.000000  0.074536  0.000000  0.000000  0.000000  0.000000  \n",
              "15  0.069007  0.000000  0.119523  0.000000  0.000000  0.000000  \n",
              "16  0.057735  0.081650  0.000000  0.000000  0.000000  0.000000  \n",
              "17  0.000000  0.074536  0.000000  0.154303  0.064550  0.064550  \n",
              "18  0.000000  0.094281  0.000000  0.097590  0.040825  0.081650  \n",
              "19  0.094281  0.000000  0.000000  0.000000  0.057735  0.115470  \n",
              "20  0.000000  0.000000  0.000000  0.000000  0.000000  0.000000  \n",
              "21  0.097590  0.000000  0.000000  0.000000  0.059761  0.179284  \n",
              "22  0.040825  0.057735  0.000000  0.059761  0.000000  0.100000  \n",
              "23  0.081650  0.115470  0.000000  0.179284  0.100000  0.000000  \n",
              "\n",
              "[24 rows x 24 columns]"
            ],
            "text/html": [
              "\n",
              "  <div id=\"df-7ad25b65-34f6-472f-b5eb-9a5d19c208cb\">\n",
              "    <div class=\"colab-df-container\">\n",
              "      <div>\n",
              "<style scoped>\n",
              "    .dataframe tbody tr th:only-of-type {\n",
              "        vertical-align: middle;\n",
              "    }\n",
              "\n",
              "    .dataframe tbody tr th {\n",
              "        vertical-align: top;\n",
              "    }\n",
              "\n",
              "    .dataframe thead th {\n",
              "        text-align: right;\n",
              "    }\n",
              "</style>\n",
              "<table border=\"1\" class=\"dataframe\">\n",
              "  <thead>\n",
              "    <tr style=\"text-align: right;\">\n",
              "      <th></th>\n",
              "      <th>0</th>\n",
              "      <th>1</th>\n",
              "      <th>2</th>\n",
              "      <th>3</th>\n",
              "      <th>4</th>\n",
              "      <th>5</th>\n",
              "      <th>6</th>\n",
              "      <th>7</th>\n",
              "      <th>8</th>\n",
              "      <th>9</th>\n",
              "      <th>...</th>\n",
              "      <th>14</th>\n",
              "      <th>15</th>\n",
              "      <th>16</th>\n",
              "      <th>17</th>\n",
              "      <th>18</th>\n",
              "      <th>19</th>\n",
              "      <th>20</th>\n",
              "      <th>21</th>\n",
              "      <th>22</th>\n",
              "      <th>23</th>\n",
              "    </tr>\n",
              "  </thead>\n",
              "  <tbody>\n",
              "    <tr>\n",
              "      <th>0</th>\n",
              "      <td>0.000000</td>\n",
              "      <td>0.000000</td>\n",
              "      <td>0.108148</td>\n",
              "      <td>0.047140</td>\n",
              "      <td>0.210819</td>\n",
              "      <td>0.058926</td>\n",
              "      <td>0.166667</td>\n",
              "      <td>0.223607</td>\n",
              "      <td>0.251976</td>\n",
              "      <td>0.0</td>\n",
              "      <td>...</td>\n",
              "      <td>0.136083</td>\n",
              "      <td>0.089087</td>\n",
              "      <td>0.149071</td>\n",
              "      <td>0.136083</td>\n",
              "      <td>0.129099</td>\n",
              "      <td>0.121716</td>\n",
              "      <td>0.000000</td>\n",
              "      <td>0.000000</td>\n",
              "      <td>0.000000</td>\n",
              "      <td>0.105409</td>\n",
              "    </tr>\n",
              "    <tr>\n",
              "      <th>1</th>\n",
              "      <td>0.000000</td>\n",
              "      <td>0.000000</td>\n",
              "      <td>0.000000</td>\n",
              "      <td>0.133333</td>\n",
              "      <td>0.074536</td>\n",
              "      <td>0.416667</td>\n",
              "      <td>0.117851</td>\n",
              "      <td>0.316228</td>\n",
              "      <td>0.089087</td>\n",
              "      <td>0.0</td>\n",
              "      <td>...</td>\n",
              "      <td>0.000000</td>\n",
              "      <td>0.000000</td>\n",
              "      <td>0.000000</td>\n",
              "      <td>0.000000</td>\n",
              "      <td>0.060858</td>\n",
              "      <td>0.258199</td>\n",
              "      <td>0.000000</td>\n",
              "      <td>0.000000</td>\n",
              "      <td>0.000000</td>\n",
              "      <td>0.074536</td>\n",
              "    </tr>\n",
              "    <tr>\n",
              "      <th>2</th>\n",
              "      <td>0.108148</td>\n",
              "      <td>0.000000</td>\n",
              "      <td>0.000000</td>\n",
              "      <td>0.045883</td>\n",
              "      <td>0.051299</td>\n",
              "      <td>0.114708</td>\n",
              "      <td>0.162221</td>\n",
              "      <td>0.145095</td>\n",
              "      <td>0.122628</td>\n",
              "      <td>0.0</td>\n",
              "      <td>...</td>\n",
              "      <td>0.198680</td>\n",
              "      <td>0.173422</td>\n",
              "      <td>0.145095</td>\n",
              "      <td>0.662266</td>\n",
              "      <td>0.041885</td>\n",
              "      <td>0.059235</td>\n",
              "      <td>0.000000</td>\n",
              "      <td>0.122628</td>\n",
              "      <td>0.051299</td>\n",
              "      <td>0.102598</td>\n",
              "    </tr>\n",
              "    <tr>\n",
              "      <th>3</th>\n",
              "      <td>0.047140</td>\n",
              "      <td>0.133333</td>\n",
              "      <td>0.045883</td>\n",
              "      <td>0.000000</td>\n",
              "      <td>0.134164</td>\n",
              "      <td>0.100000</td>\n",
              "      <td>0.070711</td>\n",
              "      <td>0.126491</td>\n",
              "      <td>0.000000</td>\n",
              "      <td>0.0</td>\n",
              "      <td>...</td>\n",
              "      <td>0.000000</td>\n",
              "      <td>0.000000</td>\n",
              "      <td>0.000000</td>\n",
              "      <td>0.000000</td>\n",
              "      <td>0.182574</td>\n",
              "      <td>0.154919</td>\n",
              "      <td>0.000000</td>\n",
              "      <td>0.160357</td>\n",
              "      <td>0.044721</td>\n",
              "      <td>0.134164</td>\n",
              "    </tr>\n",
              "    <tr>\n",
              "      <th>4</th>\n",
              "      <td>0.210819</td>\n",
              "      <td>0.074536</td>\n",
              "      <td>0.051299</td>\n",
              "      <td>0.134164</td>\n",
              "      <td>0.000000</td>\n",
              "      <td>0.055902</td>\n",
              "      <td>0.000000</td>\n",
              "      <td>0.070711</td>\n",
              "      <td>0.059761</td>\n",
              "      <td>0.0</td>\n",
              "      <td>...</td>\n",
              "      <td>0.000000</td>\n",
              "      <td>0.000000</td>\n",
              "      <td>0.000000</td>\n",
              "      <td>0.064550</td>\n",
              "      <td>0.000000</td>\n",
              "      <td>0.057735</td>\n",
              "      <td>0.000000</td>\n",
              "      <td>0.059761</td>\n",
              "      <td>0.000000</td>\n",
              "      <td>0.050000</td>\n",
              "    </tr>\n",
              "    <tr>\n",
              "      <th>5</th>\n",
              "      <td>0.058926</td>\n",
              "      <td>0.416667</td>\n",
              "      <td>0.114708</td>\n",
              "      <td>0.100000</td>\n",
              "      <td>0.055902</td>\n",
              "      <td>0.000000</td>\n",
              "      <td>0.176777</td>\n",
              "      <td>0.237171</td>\n",
              "      <td>0.133631</td>\n",
              "      <td>0.0</td>\n",
              "      <td>...</td>\n",
              "      <td>0.144338</td>\n",
              "      <td>0.000000</td>\n",
              "      <td>0.079057</td>\n",
              "      <td>0.144338</td>\n",
              "      <td>0.091287</td>\n",
              "      <td>0.258199</td>\n",
              "      <td>0.000000</td>\n",
              "      <td>0.000000</td>\n",
              "      <td>0.000000</td>\n",
              "      <td>0.055902</td>\n",
              "    </tr>\n",
              "    <tr>\n",
              "      <th>6</th>\n",
              "      <td>0.166667</td>\n",
              "      <td>0.117851</td>\n",
              "      <td>0.162221</td>\n",
              "      <td>0.070711</td>\n",
              "      <td>0.000000</td>\n",
              "      <td>0.176777</td>\n",
              "      <td>0.000000</td>\n",
              "      <td>0.335410</td>\n",
              "      <td>0.283473</td>\n",
              "      <td>0.0</td>\n",
              "      <td>...</td>\n",
              "      <td>0.306186</td>\n",
              "      <td>0.000000</td>\n",
              "      <td>0.111803</td>\n",
              "      <td>0.204124</td>\n",
              "      <td>0.000000</td>\n",
              "      <td>0.182574</td>\n",
              "      <td>0.000000</td>\n",
              "      <td>0.000000</td>\n",
              "      <td>0.079057</td>\n",
              "      <td>0.079057</td>\n",
              "    </tr>\n",
              "    <tr>\n",
              "      <th>7</th>\n",
              "      <td>0.223607</td>\n",
              "      <td>0.316228</td>\n",
              "      <td>0.145095</td>\n",
              "      <td>0.126491</td>\n",
              "      <td>0.070711</td>\n",
              "      <td>0.237171</td>\n",
              "      <td>0.335410</td>\n",
              "      <td>0.000000</td>\n",
              "      <td>0.338062</td>\n",
              "      <td>0.0</td>\n",
              "      <td>...</td>\n",
              "      <td>0.182574</td>\n",
              "      <td>0.119523</td>\n",
              "      <td>0.200000</td>\n",
              "      <td>0.091287</td>\n",
              "      <td>0.057735</td>\n",
              "      <td>0.081650</td>\n",
              "      <td>0.000000</td>\n",
              "      <td>0.084515</td>\n",
              "      <td>0.000000</td>\n",
              "      <td>0.000000</td>\n",
              "    </tr>\n",
              "    <tr>\n",
              "      <th>8</th>\n",
              "      <td>0.251976</td>\n",
              "      <td>0.089087</td>\n",
              "      <td>0.122628</td>\n",
              "      <td>0.000000</td>\n",
              "      <td>0.059761</td>\n",
              "      <td>0.133631</td>\n",
              "      <td>0.283473</td>\n",
              "      <td>0.338062</td>\n",
              "      <td>0.000000</td>\n",
              "      <td>0.0</td>\n",
              "      <td>...</td>\n",
              "      <td>0.154303</td>\n",
              "      <td>0.101015</td>\n",
              "      <td>0.169031</td>\n",
              "      <td>0.154303</td>\n",
              "      <td>0.048795</td>\n",
              "      <td>0.069007</td>\n",
              "      <td>0.000000</td>\n",
              "      <td>0.000000</td>\n",
              "      <td>0.000000</td>\n",
              "      <td>0.000000</td>\n",
              "    </tr>\n",
              "    <tr>\n",
              "      <th>9</th>\n",
              "      <td>0.000000</td>\n",
              "      <td>0.000000</td>\n",
              "      <td>0.000000</td>\n",
              "      <td>0.000000</td>\n",
              "      <td>0.000000</td>\n",
              "      <td>0.000000</td>\n",
              "      <td>0.000000</td>\n",
              "      <td>0.000000</td>\n",
              "      <td>0.000000</td>\n",
              "      <td>0.0</td>\n",
              "      <td>...</td>\n",
              "      <td>0.000000</td>\n",
              "      <td>0.000000</td>\n",
              "      <td>0.000000</td>\n",
              "      <td>0.000000</td>\n",
              "      <td>0.000000</td>\n",
              "      <td>0.000000</td>\n",
              "      <td>0.000000</td>\n",
              "      <td>0.000000</td>\n",
              "      <td>0.000000</td>\n",
              "      <td>0.000000</td>\n",
              "    </tr>\n",
              "    <tr>\n",
              "      <th>10</th>\n",
              "      <td>0.098295</td>\n",
              "      <td>0.069505</td>\n",
              "      <td>0.000000</td>\n",
              "      <td>0.041703</td>\n",
              "      <td>0.000000</td>\n",
              "      <td>0.052129</td>\n",
              "      <td>0.000000</td>\n",
              "      <td>0.000000</td>\n",
              "      <td>0.000000</td>\n",
              "      <td>0.0</td>\n",
              "      <td>...</td>\n",
              "      <td>0.060193</td>\n",
              "      <td>0.000000</td>\n",
              "      <td>0.000000</td>\n",
              "      <td>0.000000</td>\n",
              "      <td>0.000000</td>\n",
              "      <td>0.053838</td>\n",
              "      <td>0.000000</td>\n",
              "      <td>0.000000</td>\n",
              "      <td>0.000000</td>\n",
              "      <td>0.093250</td>\n",
              "    </tr>\n",
              "    <tr>\n",
              "      <th>11</th>\n",
              "      <td>0.000000</td>\n",
              "      <td>0.000000</td>\n",
              "      <td>0.114708</td>\n",
              "      <td>0.000000</td>\n",
              "      <td>0.000000</td>\n",
              "      <td>0.000000</td>\n",
              "      <td>0.000000</td>\n",
              "      <td>0.000000</td>\n",
              "      <td>0.000000</td>\n",
              "      <td>0.0</td>\n",
              "      <td>...</td>\n",
              "      <td>0.000000</td>\n",
              "      <td>0.000000</td>\n",
              "      <td>0.158114</td>\n",
              "      <td>0.144338</td>\n",
              "      <td>0.000000</td>\n",
              "      <td>0.000000</td>\n",
              "      <td>0.000000</td>\n",
              "      <td>0.133631</td>\n",
              "      <td>0.000000</td>\n",
              "      <td>0.111803</td>\n",
              "    </tr>\n",
              "    <tr>\n",
              "      <th>12</th>\n",
              "      <td>0.105409</td>\n",
              "      <td>0.000000</td>\n",
              "      <td>0.102598</td>\n",
              "      <td>0.000000</td>\n",
              "      <td>0.050000</td>\n",
              "      <td>0.055902</td>\n",
              "      <td>0.079057</td>\n",
              "      <td>0.141421</td>\n",
              "      <td>0.119523</td>\n",
              "      <td>0.0</td>\n",
              "      <td>...</td>\n",
              "      <td>0.064550</td>\n",
              "      <td>0.084515</td>\n",
              "      <td>0.141421</td>\n",
              "      <td>0.064550</td>\n",
              "      <td>0.040825</td>\n",
              "      <td>0.057735</td>\n",
              "      <td>0.000000</td>\n",
              "      <td>0.000000</td>\n",
              "      <td>0.000000</td>\n",
              "      <td>0.000000</td>\n",
              "    </tr>\n",
              "    <tr>\n",
              "      <th>13</th>\n",
              "      <td>0.000000</td>\n",
              "      <td>0.111111</td>\n",
              "      <td>0.000000</td>\n",
              "      <td>0.000000</td>\n",
              "      <td>0.000000</td>\n",
              "      <td>0.250000</td>\n",
              "      <td>0.000000</td>\n",
              "      <td>0.105409</td>\n",
              "      <td>0.000000</td>\n",
              "      <td>0.0</td>\n",
              "      <td>...</td>\n",
              "      <td>0.000000</td>\n",
              "      <td>0.000000</td>\n",
              "      <td>0.000000</td>\n",
              "      <td>0.000000</td>\n",
              "      <td>0.060858</td>\n",
              "      <td>0.086066</td>\n",
              "      <td>0.000000</td>\n",
              "      <td>0.000000</td>\n",
              "      <td>0.000000</td>\n",
              "      <td>0.074536</td>\n",
              "    </tr>\n",
              "    <tr>\n",
              "      <th>14</th>\n",
              "      <td>0.136083</td>\n",
              "      <td>0.000000</td>\n",
              "      <td>0.198680</td>\n",
              "      <td>0.000000</td>\n",
              "      <td>0.000000</td>\n",
              "      <td>0.144338</td>\n",
              "      <td>0.306186</td>\n",
              "      <td>0.182574</td>\n",
              "      <td>0.154303</td>\n",
              "      <td>0.0</td>\n",
              "      <td>...</td>\n",
              "      <td>0.000000</td>\n",
              "      <td>0.000000</td>\n",
              "      <td>0.091287</td>\n",
              "      <td>0.166667</td>\n",
              "      <td>0.000000</td>\n",
              "      <td>0.074536</td>\n",
              "      <td>0.000000</td>\n",
              "      <td>0.000000</td>\n",
              "      <td>0.000000</td>\n",
              "      <td>0.000000</td>\n",
              "    </tr>\n",
              "    <tr>\n",
              "      <th>15</th>\n",
              "      <td>0.089087</td>\n",
              "      <td>0.000000</td>\n",
              "      <td>0.173422</td>\n",
              "      <td>0.000000</td>\n",
              "      <td>0.000000</td>\n",
              "      <td>0.000000</td>\n",
              "      <td>0.000000</td>\n",
              "      <td>0.119523</td>\n",
              "      <td>0.101015</td>\n",
              "      <td>0.0</td>\n",
              "      <td>...</td>\n",
              "      <td>0.000000</td>\n",
              "      <td>0.000000</td>\n",
              "      <td>0.119523</td>\n",
              "      <td>0.218218</td>\n",
              "      <td>0.069007</td>\n",
              "      <td>0.000000</td>\n",
              "      <td>0.119523</td>\n",
              "      <td>0.000000</td>\n",
              "      <td>0.000000</td>\n",
              "      <td>0.000000</td>\n",
              "    </tr>\n",
              "    <tr>\n",
              "      <th>16</th>\n",
              "      <td>0.149071</td>\n",
              "      <td>0.000000</td>\n",
              "      <td>0.145095</td>\n",
              "      <td>0.000000</td>\n",
              "      <td>0.000000</td>\n",
              "      <td>0.079057</td>\n",
              "      <td>0.111803</td>\n",
              "      <td>0.200000</td>\n",
              "      <td>0.169031</td>\n",
              "      <td>0.0</td>\n",
              "      <td>...</td>\n",
              "      <td>0.091287</td>\n",
              "      <td>0.119523</td>\n",
              "      <td>0.000000</td>\n",
              "      <td>0.091287</td>\n",
              "      <td>0.057735</td>\n",
              "      <td>0.081650</td>\n",
              "      <td>0.000000</td>\n",
              "      <td>0.000000</td>\n",
              "      <td>0.000000</td>\n",
              "      <td>0.000000</td>\n",
              "    </tr>\n",
              "    <tr>\n",
              "      <th>17</th>\n",
              "      <td>0.136083</td>\n",
              "      <td>0.000000</td>\n",
              "      <td>0.662266</td>\n",
              "      <td>0.000000</td>\n",
              "      <td>0.064550</td>\n",
              "      <td>0.144338</td>\n",
              "      <td>0.204124</td>\n",
              "      <td>0.091287</td>\n",
              "      <td>0.154303</td>\n",
              "      <td>0.0</td>\n",
              "      <td>...</td>\n",
              "      <td>0.166667</td>\n",
              "      <td>0.218218</td>\n",
              "      <td>0.091287</td>\n",
              "      <td>0.000000</td>\n",
              "      <td>0.000000</td>\n",
              "      <td>0.074536</td>\n",
              "      <td>0.000000</td>\n",
              "      <td>0.154303</td>\n",
              "      <td>0.064550</td>\n",
              "      <td>0.064550</td>\n",
              "    </tr>\n",
              "    <tr>\n",
              "      <th>18</th>\n",
              "      <td>0.129099</td>\n",
              "      <td>0.060858</td>\n",
              "      <td>0.041885</td>\n",
              "      <td>0.182574</td>\n",
              "      <td>0.000000</td>\n",
              "      <td>0.091287</td>\n",
              "      <td>0.000000</td>\n",
              "      <td>0.057735</td>\n",
              "      <td>0.048795</td>\n",
              "      <td>0.0</td>\n",
              "      <td>...</td>\n",
              "      <td>0.000000</td>\n",
              "      <td>0.069007</td>\n",
              "      <td>0.057735</td>\n",
              "      <td>0.000000</td>\n",
              "      <td>0.000000</td>\n",
              "      <td>0.094281</td>\n",
              "      <td>0.000000</td>\n",
              "      <td>0.097590</td>\n",
              "      <td>0.040825</td>\n",
              "      <td>0.081650</td>\n",
              "    </tr>\n",
              "    <tr>\n",
              "      <th>19</th>\n",
              "      <td>0.121716</td>\n",
              "      <td>0.258199</td>\n",
              "      <td>0.059235</td>\n",
              "      <td>0.154919</td>\n",
              "      <td>0.057735</td>\n",
              "      <td>0.258199</td>\n",
              "      <td>0.182574</td>\n",
              "      <td>0.081650</td>\n",
              "      <td>0.069007</td>\n",
              "      <td>0.0</td>\n",
              "      <td>...</td>\n",
              "      <td>0.074536</td>\n",
              "      <td>0.000000</td>\n",
              "      <td>0.081650</td>\n",
              "      <td>0.074536</td>\n",
              "      <td>0.094281</td>\n",
              "      <td>0.000000</td>\n",
              "      <td>0.000000</td>\n",
              "      <td>0.000000</td>\n",
              "      <td>0.057735</td>\n",
              "      <td>0.115470</td>\n",
              "    </tr>\n",
              "    <tr>\n",
              "      <th>20</th>\n",
              "      <td>0.000000</td>\n",
              "      <td>0.000000</td>\n",
              "      <td>0.000000</td>\n",
              "      <td>0.000000</td>\n",
              "      <td>0.000000</td>\n",
              "      <td>0.000000</td>\n",
              "      <td>0.000000</td>\n",
              "      <td>0.000000</td>\n",
              "      <td>0.000000</td>\n",
              "      <td>0.0</td>\n",
              "      <td>...</td>\n",
              "      <td>0.000000</td>\n",
              "      <td>0.119523</td>\n",
              "      <td>0.000000</td>\n",
              "      <td>0.000000</td>\n",
              "      <td>0.000000</td>\n",
              "      <td>0.000000</td>\n",
              "      <td>0.000000</td>\n",
              "      <td>0.000000</td>\n",
              "      <td>0.000000</td>\n",
              "      <td>0.000000</td>\n",
              "    </tr>\n",
              "    <tr>\n",
              "      <th>21</th>\n",
              "      <td>0.000000</td>\n",
              "      <td>0.000000</td>\n",
              "      <td>0.122628</td>\n",
              "      <td>0.160357</td>\n",
              "      <td>0.059761</td>\n",
              "      <td>0.000000</td>\n",
              "      <td>0.000000</td>\n",
              "      <td>0.084515</td>\n",
              "      <td>0.000000</td>\n",
              "      <td>0.0</td>\n",
              "      <td>...</td>\n",
              "      <td>0.000000</td>\n",
              "      <td>0.000000</td>\n",
              "      <td>0.000000</td>\n",
              "      <td>0.154303</td>\n",
              "      <td>0.097590</td>\n",
              "      <td>0.000000</td>\n",
              "      <td>0.000000</td>\n",
              "      <td>0.000000</td>\n",
              "      <td>0.059761</td>\n",
              "      <td>0.179284</td>\n",
              "    </tr>\n",
              "    <tr>\n",
              "      <th>22</th>\n",
              "      <td>0.000000</td>\n",
              "      <td>0.000000</td>\n",
              "      <td>0.051299</td>\n",
              "      <td>0.044721</td>\n",
              "      <td>0.000000</td>\n",
              "      <td>0.000000</td>\n",
              "      <td>0.079057</td>\n",
              "      <td>0.000000</td>\n",
              "      <td>0.000000</td>\n",
              "      <td>0.0</td>\n",
              "      <td>...</td>\n",
              "      <td>0.000000</td>\n",
              "      <td>0.000000</td>\n",
              "      <td>0.000000</td>\n",
              "      <td>0.064550</td>\n",
              "      <td>0.040825</td>\n",
              "      <td>0.057735</td>\n",
              "      <td>0.000000</td>\n",
              "      <td>0.059761</td>\n",
              "      <td>0.000000</td>\n",
              "      <td>0.100000</td>\n",
              "    </tr>\n",
              "    <tr>\n",
              "      <th>23</th>\n",
              "      <td>0.105409</td>\n",
              "      <td>0.074536</td>\n",
              "      <td>0.102598</td>\n",
              "      <td>0.134164</td>\n",
              "      <td>0.050000</td>\n",
              "      <td>0.055902</td>\n",
              "      <td>0.079057</td>\n",
              "      <td>0.000000</td>\n",
              "      <td>0.000000</td>\n",
              "      <td>0.0</td>\n",
              "      <td>...</td>\n",
              "      <td>0.000000</td>\n",
              "      <td>0.000000</td>\n",
              "      <td>0.000000</td>\n",
              "      <td>0.064550</td>\n",
              "      <td>0.081650</td>\n",
              "      <td>0.115470</td>\n",
              "      <td>0.000000</td>\n",
              "      <td>0.179284</td>\n",
              "      <td>0.100000</td>\n",
              "      <td>0.000000</td>\n",
              "    </tr>\n",
              "  </tbody>\n",
              "</table>\n",
              "<p>24 rows × 24 columns</p>\n",
              "</div>\n",
              "      <button class=\"colab-df-convert\" onclick=\"convertToInteractive('df-7ad25b65-34f6-472f-b5eb-9a5d19c208cb')\"\n",
              "              title=\"Convert this dataframe to an interactive table.\"\n",
              "              style=\"display:none;\">\n",
              "        \n",
              "  <svg xmlns=\"http://www.w3.org/2000/svg\" height=\"24px\"viewBox=\"0 0 24 24\"\n",
              "       width=\"24px\">\n",
              "    <path d=\"M0 0h24v24H0V0z\" fill=\"none\"/>\n",
              "    <path d=\"M18.56 5.44l.94 2.06.94-2.06 2.06-.94-2.06-.94-.94-2.06-.94 2.06-2.06.94zm-11 1L8.5 8.5l.94-2.06 2.06-.94-2.06-.94L8.5 2.5l-.94 2.06-2.06.94zm10 10l.94 2.06.94-2.06 2.06-.94-2.06-.94-.94-2.06-.94 2.06-2.06.94z\"/><path d=\"M17.41 7.96l-1.37-1.37c-.4-.4-.92-.59-1.43-.59-.52 0-1.04.2-1.43.59L10.3 9.45l-7.72 7.72c-.78.78-.78 2.05 0 2.83L4 21.41c.39.39.9.59 1.41.59.51 0 1.02-.2 1.41-.59l7.78-7.78 2.81-2.81c.8-.78.8-2.07 0-2.86zM5.41 20L4 18.59l7.72-7.72 1.47 1.35L5.41 20z\"/>\n",
              "  </svg>\n",
              "      </button>\n",
              "      \n",
              "  <style>\n",
              "    .colab-df-container {\n",
              "      display:flex;\n",
              "      flex-wrap:wrap;\n",
              "      gap: 12px;\n",
              "    }\n",
              "\n",
              "    .colab-df-convert {\n",
              "      background-color: #E8F0FE;\n",
              "      border: none;\n",
              "      border-radius: 50%;\n",
              "      cursor: pointer;\n",
              "      display: none;\n",
              "      fill: #1967D2;\n",
              "      height: 32px;\n",
              "      padding: 0 0 0 0;\n",
              "      width: 32px;\n",
              "    }\n",
              "\n",
              "    .colab-df-convert:hover {\n",
              "      background-color: #E2EBFA;\n",
              "      box-shadow: 0px 1px 2px rgba(60, 64, 67, 0.3), 0px 1px 3px 1px rgba(60, 64, 67, 0.15);\n",
              "      fill: #174EA6;\n",
              "    }\n",
              "\n",
              "    [theme=dark] .colab-df-convert {\n",
              "      background-color: #3B4455;\n",
              "      fill: #D2E3FC;\n",
              "    }\n",
              "\n",
              "    [theme=dark] .colab-df-convert:hover {\n",
              "      background-color: #434B5C;\n",
              "      box-shadow: 0px 1px 3px 1px rgba(0, 0, 0, 0.15);\n",
              "      filter: drop-shadow(0px 1px 2px rgba(0, 0, 0, 0.3));\n",
              "      fill: #FFFFFF;\n",
              "    }\n",
              "  </style>\n",
              "\n",
              "      <script>\n",
              "        const buttonEl =\n",
              "          document.querySelector('#df-7ad25b65-34f6-472f-b5eb-9a5d19c208cb button.colab-df-convert');\n",
              "        buttonEl.style.display =\n",
              "          google.colab.kernel.accessAllowed ? 'block' : 'none';\n",
              "\n",
              "        async function convertToInteractive(key) {\n",
              "          const element = document.querySelector('#df-7ad25b65-34f6-472f-b5eb-9a5d19c208cb');\n",
              "          const dataTable =\n",
              "            await google.colab.kernel.invokeFunction('convertToInteractive',\n",
              "                                                     [key], {});\n",
              "          if (!dataTable) return;\n",
              "\n",
              "          const docLinkHtml = 'Like what you see? Visit the ' +\n",
              "            '<a target=\"_blank\" href=https://colab.research.google.com/notebooks/data_table.ipynb>data table notebook</a>'\n",
              "            + ' to learn more about interactive tables.';\n",
              "          element.innerHTML = '';\n",
              "          dataTable['output_type'] = 'display_data';\n",
              "          await google.colab.output.renderOutput(dataTable, element);\n",
              "          const docLink = document.createElement('div');\n",
              "          docLink.innerHTML = docLinkHtml;\n",
              "          element.appendChild(docLink);\n",
              "        }\n",
              "      </script>\n",
              "    </div>\n",
              "  </div>\n",
              "  "
            ]
          },
          "metadata": {},
          "execution_count": 42
        }
      ]
    },
    {
      "cell_type": "markdown",
      "metadata": {
        "id": "XSxslPyRIxNr"
      },
      "source": [
        "13.3) - Depois que construímos a matriz de similaridades, faça o ranking das sentenças utilizando o método ``pagerank`` do pacote `networkx`. Este método irá retornar um score para cada sentença. Para utilizar este método, os dados devem representados em um grafo. Para isto converta a matriz de similaridades para um grafo de similaridades, utilizando o método `network.from_numpy_array(matrix)`.\n",
        "\n",
        "<i>Mais informações Pagerank: </i>https://www.agenciamestre.com/marketing-digital/o-que-e-pagerank/"
      ]
    },
    {
      "cell_type": "code",
      "metadata": {
        "id": "qzcT5ognIxNs"
      },
      "source": [
        "grafo = nx.from_numpy_array(matriz_similaridade)"
      ],
      "execution_count": null,
      "outputs": []
    },
    {
      "cell_type": "code",
      "source": [
        "nx.pagerank(grafo)"
      ],
      "metadata": {
        "colab": {
          "base_uri": "https://localhost:8080/"
        },
        "id": "PiV69csFYgAZ",
        "outputId": "603c2d93-33db-4d41-fe0f-2f62f6ff21e8"
      },
      "execution_count": null,
      "outputs": [
        {
          "output_type": "execute_result",
          "data": {
            "text/plain": [
              "{0: 0.058557206426263074,\n",
              " 1: 0.04779433767142721,\n",
              " 2: 0.06828702806080768,\n",
              " 3: 0.04085724151197877,\n",
              " 4: 0.028934579035842803,\n",
              " 5: 0.06502392512958774,\n",
              " 6: 0.06197851263046078,\n",
              " 7: 0.07498935386389034,\n",
              " 8: 0.05586699428765852,\n",
              " 9: 0.006479481641468792,\n",
              " 10: 0.020838203553527307,\n",
              " 11: 0.02275715046841103,\n",
              " 12: 0.03422983891144631,\n",
              " 13: 0.024795375729986607,\n",
              " 14: 0.043182775234267376,\n",
              " 15: 0.03784204178180282,\n",
              " 16: 0.045236605672114176,\n",
              " 17: 0.06793146143310948,\n",
              " 18: 0.03537505215387676,\n",
              " 19: 0.053728822604191234,\n",
              " 20: 0.009994482261736024,\n",
              " 21: 0.033346801534199756,\n",
              " 22: 0.018668256086341022,\n",
              " 23: 0.04330447231560399}"
            ]
          },
          "metadata": {},
          "execution_count": 44
        }
      ]
    },
    {
      "cell_type": "code",
      "source": [
        "sents_scores = nx.pagerank(grafo)"
      ],
      "metadata": {
        "id": "iVJBjBLHZgdQ"
      },
      "execution_count": null,
      "outputs": []
    },
    {
      "cell_type": "markdown",
      "metadata": {
        "id": "KP2r-dMAIxNw"
      },
      "source": [
        "13.4) Ordene os scores retornados pelo `pagerank` e imprima as <b> 5 </b> sentenças com maior score."
      ]
    },
    {
      "cell_type": "code",
      "metadata": {
        "id": "p0vpIWCXIxNx"
      },
      "source": [
        "scores_sorted = dict(sorted(sents_scores.items(),key = operator.itemgetter(1),reverse = True))"
      ],
      "execution_count": null,
      "outputs": []
    },
    {
      "cell_type": "code",
      "source": [
        "' '.join([texto_sents[id_sent] for id_sent in sorted(list(scores_sorted)[:5])])"
      ],
      "metadata": {
        "colab": {
          "base_uri": "https://localhost:8080/",
          "height": 104
        },
        "id": "o8pPDVw7Z432",
        "outputId": "a5de7f1c-51a6-42d8-ab28-18fe58dc3bb6"
      },
      "execution_count": null,
      "outputs": [
        {
          "output_type": "execute_result",
          "data": {
            "text/plain": [
              "'A Rússia anunciou que vai restringir o acesso ao Instagram na próxima segunda-feira (14) como resposta à mudança de política para discurso de ódio da Meta, controladora do Instagram e também das plataformas Facebook e WhatsApp. Os russos usam muito mais o Instagram do que o Facebook, a rede social com mais usuários no mundo, segundo dados da consultoria eMarketer publicados pela agência France Presse. O Facebook tinha 7,5 milhões naquele país em 2021, o equivalente a 7,3% dos internautas, contra 51 milhões no Instagram. O Instagram não divulga dados de usuários por país, mas, na sexta, Mosseri postou que são 80 milhões na Rússia. A decisão é uma resposta à mudança de política sobre discurso de ódio da Meta, controladora do Facebook, do WhatsApp e do Instagram.'"
            ],
            "application/vnd.google.colaboratory.intrinsic+json": {
              "type": "string"
            }
          },
          "metadata": {},
          "execution_count": 47
        }
      ]
    },
    {
      "cell_type": "markdown",
      "metadata": {
        "id": "cAPFvduYIxN0"
      },
      "source": [
        "<b> Atividade </b>\n",
        "\n",
        "14) Analise o resultado da sumarização, construindo uma crítica sobre a qualidade e relevância da mesma."
      ]
    },
    {
      "cell_type": "markdown",
      "source": [
        "O sumário construído leva ao entendimento geral sobre o conteudo da noticia, com frases mais relevantes, falando sobre a restrição do acesso ao instagram na rússia e a quantidade de usuários, demonstrando a popularidade do aplicativo na russia de forma resumida. "
      ],
      "metadata": {
        "id": "zVmwF5q9vpxc"
      }
    },
    {
      "cell_type": "markdown",
      "metadata": {
        "id": "jqfzs38pIxN4"
      },
      "source": [
        "<b> Atividade </b>\n",
        "\n",
        "15) Faça o exercício 13 mais uma vez, agora substituindo a representação BoW pela TFIDF, usando o TDIDFVectorizer"
      ]
    },
    {
      "cell_type": "code",
      "source": [
        "from sklearn.feature_extraction.text import TfidfVectorizer"
      ],
      "metadata": {
        "id": "PegEYjpdjJ4h"
      },
      "execution_count": null,
      "outputs": []
    },
    {
      "cell_type": "code",
      "metadata": {
        "id": "R28P0409IxN5"
      },
      "source": [
        "def calcula_similaridade_tfidf(f1,f0):\n",
        "    todas_palavras = f1+f0\n",
        "    vect = TfidfVectorizer()\n",
        "    vect.fit(todas_palavras)\n",
        "    f0_tfidf = vect.transform([' '.join(f0)]).todense()\n",
        "    f1_tfidf = vect.transform([' '.join(f1)]).todense()    \n",
        "    return cosine_similarity(f0_tfidf,f1_tfidf)[0][0]"
      ],
      "execution_count": null,
      "outputs": []
    },
    {
      "cell_type": "code",
      "source": [
        "calcula_similaridade_tfidf(texto_limpo[0],texto_limpo[1])"
      ],
      "metadata": {
        "colab": {
          "base_uri": "https://localhost:8080/"
        },
        "id": "xz-NJmJTjJMK",
        "outputId": "67697167-9828-4221-86fa-eec26a4453e0"
      },
      "execution_count": null,
      "outputs": [
        {
          "output_type": "execute_result",
          "data": {
            "text/plain": [
              "0.0"
            ]
          },
          "metadata": {},
          "execution_count": 55
        }
      ]
    },
    {
      "cell_type": "code",
      "source": [
        "matriz_similaridade_tfidf = np.zeros((len(texto_sents),len(texto_sents)))"
      ],
      "metadata": {
        "id": "mho6vaAujOX5"
      },
      "execution_count": null,
      "outputs": []
    },
    {
      "cell_type": "code",
      "source": [
        "for linha in range(0,len(texto_sents)):\n",
        "  for coluna in range(0,len(texto_sents)):\n",
        "    if linha==coluna:\n",
        "      continue\n",
        "    matriz_similaridade_tfidf[linha][coluna]  =  calcula_similaridade_tfidf(texto_limpo[linha],texto_limpo[coluna])"
      ],
      "metadata": {
        "id": "RFn4LMX4jbKB"
      },
      "execution_count": null,
      "outputs": []
    },
    {
      "cell_type": "code",
      "source": [
        " import pandas as pd\n",
        " pd.DataFrame(matriz_similaridade_tfidf)"
      ],
      "metadata": {
        "colab": {
          "base_uri": "https://localhost:8080/",
          "height": 896
        },
        "id": "khNLSqYGjbQY",
        "outputId": "a9569b2a-6c70-43b0-ee46-7427351677b8"
      },
      "execution_count": null,
      "outputs": [
        {
          "output_type": "execute_result",
          "data": {
            "text/plain": [
              "          0         1         2         3         4         5         6   \\\n",
              "0   0.000000  0.000000  0.114459  0.038607  0.177210  0.047764  0.120698   \n",
              "1   0.000000  0.000000  0.000000  0.110130  0.060129  0.361029  0.137000   \n",
              "2   0.114459  0.000000  0.000000  0.035581  0.039600  0.121131  0.150810   \n",
              "3   0.038607  0.110130  0.035581  0.000000  0.111965  0.082568  0.050853   \n",
              "4   0.177210  0.060129  0.039600  0.111965  0.000000  0.045431  0.000000   \n",
              "5   0.047764  0.361029  0.121131  0.082568  0.045431  0.000000  0.127740   \n",
              "6   0.120698  0.137000  0.150810  0.050853  0.000000  0.127740  0.000000   \n",
              "7   0.186049  0.262507  0.152609  0.104394  0.057092  0.197006  0.306349   \n",
              "8   0.233145  0.066243  0.152622  0.000000  0.045063  0.101567  0.241165   \n",
              "9   0.000000  0.000000  0.000000  0.000000  0.000000  0.000000  0.000000   \n",
              "10  0.077452  0.053914  0.000000  0.032745  0.000000  0.040633  0.000000   \n",
              "11  0.000000  0.000000  0.088047  0.000000  0.000000  0.000000  0.000000   \n",
              "12  0.086869  0.000000  0.109035  0.000000  0.040867  0.045499  0.056574   \n",
              "13  0.000000  0.087397  0.000000  0.000000  0.000000  0.208014  0.000000   \n",
              "14  0.111355  0.000000  0.194141  0.000000  0.000000  0.117823  0.225145   \n",
              "15  0.071500  0.000000  0.135195  0.000000  0.000000  0.000000  0.000000   \n",
              "16  0.121946  0.000000  0.152609  0.000000  0.000000  0.063357  0.078455   \n",
              "17  0.111355  0.000000  0.625124  0.000000  0.052223  0.117823  0.146894   \n",
              "18  0.125558  0.046581  0.052513  0.144342  0.000000  0.070638  0.000000   \n",
              "19  0.087692  0.281383  0.068276  0.113116  0.041233  0.261429  0.116256   \n",
              "20  0.000000  0.000000  0.000000  0.000000  0.000000  0.000000  0.000000   \n",
              "21  0.000000  0.000000  0.095234  0.133777  0.048458  0.000000  0.000000   \n",
              "22  0.000000  0.000000  0.037657  0.034867  0.000000  0.000000  0.053848   \n",
              "23  0.086979  0.060365  0.080126  0.112185  0.040917  0.045564  0.056665   \n",
              "\n",
              "          7         8    9   ...        14        15        16        17  \\\n",
              "0   0.186049  0.233145  0.0  ...  0.111355  0.071500  0.121946  0.111355   \n",
              "1   0.262507  0.066243  0.0  ...  0.000000  0.000000  0.000000  0.000000   \n",
              "2   0.152609  0.152622  0.0  ...  0.194141  0.135195  0.152609  0.625124   \n",
              "3   0.104394  0.000000  0.0  ...  0.000000  0.000000  0.000000  0.000000   \n",
              "4   0.057092  0.045063  0.0  ...  0.000000  0.000000  0.000000  0.052223   \n",
              "5   0.197006  0.101567  0.0  ...  0.117823  0.000000  0.063357  0.117823   \n",
              "6   0.306349  0.241165  0.0  ...  0.225145  0.000000  0.078455  0.146894   \n",
              "7   0.000000  0.314919  0.0  ...  0.148119  0.093838  0.161894  0.072523   \n",
              "8   0.314919  0.000000  0.0  ...  0.116982  0.125556  0.172945  0.116982   \n",
              "9   0.000000  0.000000  0.0  ...  0.000000  0.000000  0.000000  0.000000   \n",
              "10  0.000000  0.000000  0.0  ...  0.079763  0.000000  0.000000  0.000000   \n",
              "11  0.000000  0.000000  0.0  ...  0.000000  0.000000  0.123908  0.114086   \n",
              "12  0.116208  0.124170  0.0  ...  0.052315  0.068267  0.116208  0.052315   \n",
              "13  0.083138  0.000000  0.0  ...  0.000000  0.000000  0.000000  0.000000   \n",
              "14  0.148119  0.116982  0.0  ...  0.000000  0.000000  0.072523  0.135430   \n",
              "15  0.093838  0.125556  0.0  ...  0.000000  0.000000  0.093838  0.177179   \n",
              "16  0.161894  0.172945  0.0  ...  0.072523  0.093838  0.000000  0.072523   \n",
              "17  0.072523  0.116982  0.0  ...  0.135430  0.177179  0.072523  0.000000   \n",
              "18  0.075849  0.106884  0.0  ...  0.000000  0.090690  0.075849  0.000000   \n",
              "19  0.057733  0.045571  0.0  ...  0.052800  0.000000  0.057733  0.052800   \n",
              "20  0.000000  0.000000  0.0  ...  0.000000  0.093838  0.000000  0.000000   \n",
              "21  0.067448  0.000000  0.0  ...  0.000000  0.000000  0.000000  0.125657   \n",
              "22  0.000000  0.000000  0.0  ...  0.000000  0.000000  0.000000  0.049783   \n",
              "23  0.000000  0.000000  0.0  ...  0.000000  0.000000  0.000000  0.052403   \n",
              "\n",
              "          18        19        20        21        22        23  \n",
              "0   0.125558  0.087692  0.000000  0.000000  0.000000  0.086979  \n",
              "1   0.046581  0.281383  0.000000  0.000000  0.000000  0.060365  \n",
              "2   0.052513  0.068276  0.000000  0.095234  0.037657  0.080126  \n",
              "3   0.144342  0.113116  0.000000  0.133777  0.034867  0.112185  \n",
              "4   0.000000  0.041233  0.000000  0.048458  0.000000  0.040917  \n",
              "5   0.070638  0.261429  0.000000  0.000000  0.000000  0.045564  \n",
              "6   0.000000  0.116256  0.000000  0.000000  0.053848  0.056665  \n",
              "7   0.075849  0.057733  0.000000  0.067448  0.000000  0.000000  \n",
              "8   0.106884  0.045571  0.000000  0.000000  0.000000  0.000000  \n",
              "9   0.000000  0.000000  0.000000  0.000000  0.000000  0.000000  \n",
              "10  0.000000  0.036833  0.000000  0.000000  0.000000  0.073698  \n",
              "11  0.000000  0.000000  0.000000  0.106402  0.000000  0.090974  \n",
              "12  0.054273  0.041281  0.000000  0.000000  0.000000  0.000000  \n",
              "13  0.046581  0.102389  0.000000  0.000000  0.000000  0.060365  \n",
              "14  0.000000  0.052800  0.000000  0.000000  0.000000  0.000000  \n",
              "15  0.090690  0.000000  0.093838  0.000000  0.000000  0.000000  \n",
              "16  0.075849  0.057733  0.000000  0.000000  0.000000  0.000000  \n",
              "17  0.000000  0.052800  0.000000  0.125657  0.049783  0.052403  \n",
              "18  0.000000  0.063845  0.000000  0.103026  0.051598  0.086642  \n",
              "19  0.063845  0.000000  0.000000  0.000000  0.039221  0.083480  \n",
              "20  0.000000  0.000000  0.000000  0.000000  0.000000  0.000000  \n",
              "21  0.103026  0.000000  0.000000  0.000000  0.046165  0.149441  \n",
              "22  0.051598  0.039221  0.000000  0.046165  0.000000  0.078512  \n",
              "23  0.086642  0.083480  0.000000  0.149441  0.078512  0.000000  \n",
              "\n",
              "[24 rows x 24 columns]"
            ],
            "text/html": [
              "\n",
              "  <div id=\"df-ebe45e05-904b-41ec-bb48-4bdbb23fb241\">\n",
              "    <div class=\"colab-df-container\">\n",
              "      <div>\n",
              "<style scoped>\n",
              "    .dataframe tbody tr th:only-of-type {\n",
              "        vertical-align: middle;\n",
              "    }\n",
              "\n",
              "    .dataframe tbody tr th {\n",
              "        vertical-align: top;\n",
              "    }\n",
              "\n",
              "    .dataframe thead th {\n",
              "        text-align: right;\n",
              "    }\n",
              "</style>\n",
              "<table border=\"1\" class=\"dataframe\">\n",
              "  <thead>\n",
              "    <tr style=\"text-align: right;\">\n",
              "      <th></th>\n",
              "      <th>0</th>\n",
              "      <th>1</th>\n",
              "      <th>2</th>\n",
              "      <th>3</th>\n",
              "      <th>4</th>\n",
              "      <th>5</th>\n",
              "      <th>6</th>\n",
              "      <th>7</th>\n",
              "      <th>8</th>\n",
              "      <th>9</th>\n",
              "      <th>...</th>\n",
              "      <th>14</th>\n",
              "      <th>15</th>\n",
              "      <th>16</th>\n",
              "      <th>17</th>\n",
              "      <th>18</th>\n",
              "      <th>19</th>\n",
              "      <th>20</th>\n",
              "      <th>21</th>\n",
              "      <th>22</th>\n",
              "      <th>23</th>\n",
              "    </tr>\n",
              "  </thead>\n",
              "  <tbody>\n",
              "    <tr>\n",
              "      <th>0</th>\n",
              "      <td>0.000000</td>\n",
              "      <td>0.000000</td>\n",
              "      <td>0.114459</td>\n",
              "      <td>0.038607</td>\n",
              "      <td>0.177210</td>\n",
              "      <td>0.047764</td>\n",
              "      <td>0.120698</td>\n",
              "      <td>0.186049</td>\n",
              "      <td>0.233145</td>\n",
              "      <td>0.0</td>\n",
              "      <td>...</td>\n",
              "      <td>0.111355</td>\n",
              "      <td>0.071500</td>\n",
              "      <td>0.121946</td>\n",
              "      <td>0.111355</td>\n",
              "      <td>0.125558</td>\n",
              "      <td>0.087692</td>\n",
              "      <td>0.000000</td>\n",
              "      <td>0.000000</td>\n",
              "      <td>0.000000</td>\n",
              "      <td>0.086979</td>\n",
              "    </tr>\n",
              "    <tr>\n",
              "      <th>1</th>\n",
              "      <td>0.000000</td>\n",
              "      <td>0.000000</td>\n",
              "      <td>0.000000</td>\n",
              "      <td>0.110130</td>\n",
              "      <td>0.060129</td>\n",
              "      <td>0.361029</td>\n",
              "      <td>0.137000</td>\n",
              "      <td>0.262507</td>\n",
              "      <td>0.066243</td>\n",
              "      <td>0.0</td>\n",
              "      <td>...</td>\n",
              "      <td>0.000000</td>\n",
              "      <td>0.000000</td>\n",
              "      <td>0.000000</td>\n",
              "      <td>0.000000</td>\n",
              "      <td>0.046581</td>\n",
              "      <td>0.281383</td>\n",
              "      <td>0.000000</td>\n",
              "      <td>0.000000</td>\n",
              "      <td>0.000000</td>\n",
              "      <td>0.060365</td>\n",
              "    </tr>\n",
              "    <tr>\n",
              "      <th>2</th>\n",
              "      <td>0.114459</td>\n",
              "      <td>0.000000</td>\n",
              "      <td>0.000000</td>\n",
              "      <td>0.035581</td>\n",
              "      <td>0.039600</td>\n",
              "      <td>0.121131</td>\n",
              "      <td>0.150810</td>\n",
              "      <td>0.152609</td>\n",
              "      <td>0.152622</td>\n",
              "      <td>0.0</td>\n",
              "      <td>...</td>\n",
              "      <td>0.194141</td>\n",
              "      <td>0.135195</td>\n",
              "      <td>0.152609</td>\n",
              "      <td>0.625124</td>\n",
              "      <td>0.052513</td>\n",
              "      <td>0.068276</td>\n",
              "      <td>0.000000</td>\n",
              "      <td>0.095234</td>\n",
              "      <td>0.037657</td>\n",
              "      <td>0.080126</td>\n",
              "    </tr>\n",
              "    <tr>\n",
              "      <th>3</th>\n",
              "      <td>0.038607</td>\n",
              "      <td>0.110130</td>\n",
              "      <td>0.035581</td>\n",
              "      <td>0.000000</td>\n",
              "      <td>0.111965</td>\n",
              "      <td>0.082568</td>\n",
              "      <td>0.050853</td>\n",
              "      <td>0.104394</td>\n",
              "      <td>0.000000</td>\n",
              "      <td>0.0</td>\n",
              "      <td>...</td>\n",
              "      <td>0.000000</td>\n",
              "      <td>0.000000</td>\n",
              "      <td>0.000000</td>\n",
              "      <td>0.000000</td>\n",
              "      <td>0.144342</td>\n",
              "      <td>0.113116</td>\n",
              "      <td>0.000000</td>\n",
              "      <td>0.133777</td>\n",
              "      <td>0.034867</td>\n",
              "      <td>0.112185</td>\n",
              "    </tr>\n",
              "    <tr>\n",
              "      <th>4</th>\n",
              "      <td>0.177210</td>\n",
              "      <td>0.060129</td>\n",
              "      <td>0.039600</td>\n",
              "      <td>0.111965</td>\n",
              "      <td>0.000000</td>\n",
              "      <td>0.045431</td>\n",
              "      <td>0.000000</td>\n",
              "      <td>0.057092</td>\n",
              "      <td>0.045063</td>\n",
              "      <td>0.0</td>\n",
              "      <td>...</td>\n",
              "      <td>0.000000</td>\n",
              "      <td>0.000000</td>\n",
              "      <td>0.000000</td>\n",
              "      <td>0.052223</td>\n",
              "      <td>0.000000</td>\n",
              "      <td>0.041233</td>\n",
              "      <td>0.000000</td>\n",
              "      <td>0.048458</td>\n",
              "      <td>0.000000</td>\n",
              "      <td>0.040917</td>\n",
              "    </tr>\n",
              "    <tr>\n",
              "      <th>5</th>\n",
              "      <td>0.047764</td>\n",
              "      <td>0.361029</td>\n",
              "      <td>0.121131</td>\n",
              "      <td>0.082568</td>\n",
              "      <td>0.045431</td>\n",
              "      <td>0.000000</td>\n",
              "      <td>0.127740</td>\n",
              "      <td>0.197006</td>\n",
              "      <td>0.101567</td>\n",
              "      <td>0.0</td>\n",
              "      <td>...</td>\n",
              "      <td>0.117823</td>\n",
              "      <td>0.000000</td>\n",
              "      <td>0.063357</td>\n",
              "      <td>0.117823</td>\n",
              "      <td>0.070638</td>\n",
              "      <td>0.261429</td>\n",
              "      <td>0.000000</td>\n",
              "      <td>0.000000</td>\n",
              "      <td>0.000000</td>\n",
              "      <td>0.045564</td>\n",
              "    </tr>\n",
              "    <tr>\n",
              "      <th>6</th>\n",
              "      <td>0.120698</td>\n",
              "      <td>0.137000</td>\n",
              "      <td>0.150810</td>\n",
              "      <td>0.050853</td>\n",
              "      <td>0.000000</td>\n",
              "      <td>0.127740</td>\n",
              "      <td>0.000000</td>\n",
              "      <td>0.306349</td>\n",
              "      <td>0.241165</td>\n",
              "      <td>0.0</td>\n",
              "      <td>...</td>\n",
              "      <td>0.225145</td>\n",
              "      <td>0.000000</td>\n",
              "      <td>0.078455</td>\n",
              "      <td>0.146894</td>\n",
              "      <td>0.000000</td>\n",
              "      <td>0.116256</td>\n",
              "      <td>0.000000</td>\n",
              "      <td>0.000000</td>\n",
              "      <td>0.053848</td>\n",
              "      <td>0.056665</td>\n",
              "    </tr>\n",
              "    <tr>\n",
              "      <th>7</th>\n",
              "      <td>0.186049</td>\n",
              "      <td>0.262507</td>\n",
              "      <td>0.152609</td>\n",
              "      <td>0.104394</td>\n",
              "      <td>0.057092</td>\n",
              "      <td>0.197006</td>\n",
              "      <td>0.306349</td>\n",
              "      <td>0.000000</td>\n",
              "      <td>0.314919</td>\n",
              "      <td>0.0</td>\n",
              "      <td>...</td>\n",
              "      <td>0.148119</td>\n",
              "      <td>0.093838</td>\n",
              "      <td>0.161894</td>\n",
              "      <td>0.072523</td>\n",
              "      <td>0.075849</td>\n",
              "      <td>0.057733</td>\n",
              "      <td>0.000000</td>\n",
              "      <td>0.067448</td>\n",
              "      <td>0.000000</td>\n",
              "      <td>0.000000</td>\n",
              "    </tr>\n",
              "    <tr>\n",
              "      <th>8</th>\n",
              "      <td>0.233145</td>\n",
              "      <td>0.066243</td>\n",
              "      <td>0.152622</td>\n",
              "      <td>0.000000</td>\n",
              "      <td>0.045063</td>\n",
              "      <td>0.101567</td>\n",
              "      <td>0.241165</td>\n",
              "      <td>0.314919</td>\n",
              "      <td>0.000000</td>\n",
              "      <td>0.0</td>\n",
              "      <td>...</td>\n",
              "      <td>0.116982</td>\n",
              "      <td>0.125556</td>\n",
              "      <td>0.172945</td>\n",
              "      <td>0.116982</td>\n",
              "      <td>0.106884</td>\n",
              "      <td>0.045571</td>\n",
              "      <td>0.000000</td>\n",
              "      <td>0.000000</td>\n",
              "      <td>0.000000</td>\n",
              "      <td>0.000000</td>\n",
              "    </tr>\n",
              "    <tr>\n",
              "      <th>9</th>\n",
              "      <td>0.000000</td>\n",
              "      <td>0.000000</td>\n",
              "      <td>0.000000</td>\n",
              "      <td>0.000000</td>\n",
              "      <td>0.000000</td>\n",
              "      <td>0.000000</td>\n",
              "      <td>0.000000</td>\n",
              "      <td>0.000000</td>\n",
              "      <td>0.000000</td>\n",
              "      <td>0.0</td>\n",
              "      <td>...</td>\n",
              "      <td>0.000000</td>\n",
              "      <td>0.000000</td>\n",
              "      <td>0.000000</td>\n",
              "      <td>0.000000</td>\n",
              "      <td>0.000000</td>\n",
              "      <td>0.000000</td>\n",
              "      <td>0.000000</td>\n",
              "      <td>0.000000</td>\n",
              "      <td>0.000000</td>\n",
              "      <td>0.000000</td>\n",
              "    </tr>\n",
              "    <tr>\n",
              "      <th>10</th>\n",
              "      <td>0.077452</td>\n",
              "      <td>0.053914</td>\n",
              "      <td>0.000000</td>\n",
              "      <td>0.032745</td>\n",
              "      <td>0.000000</td>\n",
              "      <td>0.040633</td>\n",
              "      <td>0.000000</td>\n",
              "      <td>0.000000</td>\n",
              "      <td>0.000000</td>\n",
              "      <td>0.0</td>\n",
              "      <td>...</td>\n",
              "      <td>0.079763</td>\n",
              "      <td>0.000000</td>\n",
              "      <td>0.000000</td>\n",
              "      <td>0.000000</td>\n",
              "      <td>0.000000</td>\n",
              "      <td>0.036833</td>\n",
              "      <td>0.000000</td>\n",
              "      <td>0.000000</td>\n",
              "      <td>0.000000</td>\n",
              "      <td>0.073698</td>\n",
              "    </tr>\n",
              "    <tr>\n",
              "      <th>11</th>\n",
              "      <td>0.000000</td>\n",
              "      <td>0.000000</td>\n",
              "      <td>0.088047</td>\n",
              "      <td>0.000000</td>\n",
              "      <td>0.000000</td>\n",
              "      <td>0.000000</td>\n",
              "      <td>0.000000</td>\n",
              "      <td>0.000000</td>\n",
              "      <td>0.000000</td>\n",
              "      <td>0.0</td>\n",
              "      <td>...</td>\n",
              "      <td>0.000000</td>\n",
              "      <td>0.000000</td>\n",
              "      <td>0.123908</td>\n",
              "      <td>0.114086</td>\n",
              "      <td>0.000000</td>\n",
              "      <td>0.000000</td>\n",
              "      <td>0.000000</td>\n",
              "      <td>0.106402</td>\n",
              "      <td>0.000000</td>\n",
              "      <td>0.090974</td>\n",
              "    </tr>\n",
              "    <tr>\n",
              "      <th>12</th>\n",
              "      <td>0.086869</td>\n",
              "      <td>0.000000</td>\n",
              "      <td>0.109035</td>\n",
              "      <td>0.000000</td>\n",
              "      <td>0.040867</td>\n",
              "      <td>0.045499</td>\n",
              "      <td>0.056574</td>\n",
              "      <td>0.116208</td>\n",
              "      <td>0.124170</td>\n",
              "      <td>0.0</td>\n",
              "      <td>...</td>\n",
              "      <td>0.052315</td>\n",
              "      <td>0.068267</td>\n",
              "      <td>0.116208</td>\n",
              "      <td>0.052315</td>\n",
              "      <td>0.054273</td>\n",
              "      <td>0.041281</td>\n",
              "      <td>0.000000</td>\n",
              "      <td>0.000000</td>\n",
              "      <td>0.000000</td>\n",
              "      <td>0.000000</td>\n",
              "    </tr>\n",
              "    <tr>\n",
              "      <th>13</th>\n",
              "      <td>0.000000</td>\n",
              "      <td>0.087397</td>\n",
              "      <td>0.000000</td>\n",
              "      <td>0.000000</td>\n",
              "      <td>0.000000</td>\n",
              "      <td>0.208014</td>\n",
              "      <td>0.000000</td>\n",
              "      <td>0.083138</td>\n",
              "      <td>0.000000</td>\n",
              "      <td>0.0</td>\n",
              "      <td>...</td>\n",
              "      <td>0.000000</td>\n",
              "      <td>0.000000</td>\n",
              "      <td>0.000000</td>\n",
              "      <td>0.000000</td>\n",
              "      <td>0.046581</td>\n",
              "      <td>0.102389</td>\n",
              "      <td>0.000000</td>\n",
              "      <td>0.000000</td>\n",
              "      <td>0.000000</td>\n",
              "      <td>0.060365</td>\n",
              "    </tr>\n",
              "    <tr>\n",
              "      <th>14</th>\n",
              "      <td>0.111355</td>\n",
              "      <td>0.000000</td>\n",
              "      <td>0.194141</td>\n",
              "      <td>0.000000</td>\n",
              "      <td>0.000000</td>\n",
              "      <td>0.117823</td>\n",
              "      <td>0.225145</td>\n",
              "      <td>0.148119</td>\n",
              "      <td>0.116982</td>\n",
              "      <td>0.0</td>\n",
              "      <td>...</td>\n",
              "      <td>0.000000</td>\n",
              "      <td>0.000000</td>\n",
              "      <td>0.072523</td>\n",
              "      <td>0.135430</td>\n",
              "      <td>0.000000</td>\n",
              "      <td>0.052800</td>\n",
              "      <td>0.000000</td>\n",
              "      <td>0.000000</td>\n",
              "      <td>0.000000</td>\n",
              "      <td>0.000000</td>\n",
              "    </tr>\n",
              "    <tr>\n",
              "      <th>15</th>\n",
              "      <td>0.071500</td>\n",
              "      <td>0.000000</td>\n",
              "      <td>0.135195</td>\n",
              "      <td>0.000000</td>\n",
              "      <td>0.000000</td>\n",
              "      <td>0.000000</td>\n",
              "      <td>0.000000</td>\n",
              "      <td>0.093838</td>\n",
              "      <td>0.125556</td>\n",
              "      <td>0.0</td>\n",
              "      <td>...</td>\n",
              "      <td>0.000000</td>\n",
              "      <td>0.000000</td>\n",
              "      <td>0.093838</td>\n",
              "      <td>0.177179</td>\n",
              "      <td>0.090690</td>\n",
              "      <td>0.000000</td>\n",
              "      <td>0.093838</td>\n",
              "      <td>0.000000</td>\n",
              "      <td>0.000000</td>\n",
              "      <td>0.000000</td>\n",
              "    </tr>\n",
              "    <tr>\n",
              "      <th>16</th>\n",
              "      <td>0.121946</td>\n",
              "      <td>0.000000</td>\n",
              "      <td>0.152609</td>\n",
              "      <td>0.000000</td>\n",
              "      <td>0.000000</td>\n",
              "      <td>0.063357</td>\n",
              "      <td>0.078455</td>\n",
              "      <td>0.161894</td>\n",
              "      <td>0.172945</td>\n",
              "      <td>0.0</td>\n",
              "      <td>...</td>\n",
              "      <td>0.072523</td>\n",
              "      <td>0.093838</td>\n",
              "      <td>0.000000</td>\n",
              "      <td>0.072523</td>\n",
              "      <td>0.075849</td>\n",
              "      <td>0.057733</td>\n",
              "      <td>0.000000</td>\n",
              "      <td>0.000000</td>\n",
              "      <td>0.000000</td>\n",
              "      <td>0.000000</td>\n",
              "    </tr>\n",
              "    <tr>\n",
              "      <th>17</th>\n",
              "      <td>0.111355</td>\n",
              "      <td>0.000000</td>\n",
              "      <td>0.625124</td>\n",
              "      <td>0.000000</td>\n",
              "      <td>0.052223</td>\n",
              "      <td>0.117823</td>\n",
              "      <td>0.146894</td>\n",
              "      <td>0.072523</td>\n",
              "      <td>0.116982</td>\n",
              "      <td>0.0</td>\n",
              "      <td>...</td>\n",
              "      <td>0.135430</td>\n",
              "      <td>0.177179</td>\n",
              "      <td>0.072523</td>\n",
              "      <td>0.000000</td>\n",
              "      <td>0.000000</td>\n",
              "      <td>0.052800</td>\n",
              "      <td>0.000000</td>\n",
              "      <td>0.125657</td>\n",
              "      <td>0.049783</td>\n",
              "      <td>0.052403</td>\n",
              "    </tr>\n",
              "    <tr>\n",
              "      <th>18</th>\n",
              "      <td>0.125558</td>\n",
              "      <td>0.046581</td>\n",
              "      <td>0.052513</td>\n",
              "      <td>0.144342</td>\n",
              "      <td>0.000000</td>\n",
              "      <td>0.070638</td>\n",
              "      <td>0.000000</td>\n",
              "      <td>0.075849</td>\n",
              "      <td>0.106884</td>\n",
              "      <td>0.0</td>\n",
              "      <td>...</td>\n",
              "      <td>0.000000</td>\n",
              "      <td>0.090690</td>\n",
              "      <td>0.075849</td>\n",
              "      <td>0.000000</td>\n",
              "      <td>0.000000</td>\n",
              "      <td>0.063845</td>\n",
              "      <td>0.000000</td>\n",
              "      <td>0.103026</td>\n",
              "      <td>0.051598</td>\n",
              "      <td>0.086642</td>\n",
              "    </tr>\n",
              "    <tr>\n",
              "      <th>19</th>\n",
              "      <td>0.087692</td>\n",
              "      <td>0.281383</td>\n",
              "      <td>0.068276</td>\n",
              "      <td>0.113116</td>\n",
              "      <td>0.041233</td>\n",
              "      <td>0.261429</td>\n",
              "      <td>0.116256</td>\n",
              "      <td>0.057733</td>\n",
              "      <td>0.045571</td>\n",
              "      <td>0.0</td>\n",
              "      <td>...</td>\n",
              "      <td>0.052800</td>\n",
              "      <td>0.000000</td>\n",
              "      <td>0.057733</td>\n",
              "      <td>0.052800</td>\n",
              "      <td>0.063845</td>\n",
              "      <td>0.000000</td>\n",
              "      <td>0.000000</td>\n",
              "      <td>0.000000</td>\n",
              "      <td>0.039221</td>\n",
              "      <td>0.083480</td>\n",
              "    </tr>\n",
              "    <tr>\n",
              "      <th>20</th>\n",
              "      <td>0.000000</td>\n",
              "      <td>0.000000</td>\n",
              "      <td>0.000000</td>\n",
              "      <td>0.000000</td>\n",
              "      <td>0.000000</td>\n",
              "      <td>0.000000</td>\n",
              "      <td>0.000000</td>\n",
              "      <td>0.000000</td>\n",
              "      <td>0.000000</td>\n",
              "      <td>0.0</td>\n",
              "      <td>...</td>\n",
              "      <td>0.000000</td>\n",
              "      <td>0.093838</td>\n",
              "      <td>0.000000</td>\n",
              "      <td>0.000000</td>\n",
              "      <td>0.000000</td>\n",
              "      <td>0.000000</td>\n",
              "      <td>0.000000</td>\n",
              "      <td>0.000000</td>\n",
              "      <td>0.000000</td>\n",
              "      <td>0.000000</td>\n",
              "    </tr>\n",
              "    <tr>\n",
              "      <th>21</th>\n",
              "      <td>0.000000</td>\n",
              "      <td>0.000000</td>\n",
              "      <td>0.095234</td>\n",
              "      <td>0.133777</td>\n",
              "      <td>0.048458</td>\n",
              "      <td>0.000000</td>\n",
              "      <td>0.000000</td>\n",
              "      <td>0.067448</td>\n",
              "      <td>0.000000</td>\n",
              "      <td>0.0</td>\n",
              "      <td>...</td>\n",
              "      <td>0.000000</td>\n",
              "      <td>0.000000</td>\n",
              "      <td>0.000000</td>\n",
              "      <td>0.125657</td>\n",
              "      <td>0.103026</td>\n",
              "      <td>0.000000</td>\n",
              "      <td>0.000000</td>\n",
              "      <td>0.000000</td>\n",
              "      <td>0.046165</td>\n",
              "      <td>0.149441</td>\n",
              "    </tr>\n",
              "    <tr>\n",
              "      <th>22</th>\n",
              "      <td>0.000000</td>\n",
              "      <td>0.000000</td>\n",
              "      <td>0.037657</td>\n",
              "      <td>0.034867</td>\n",
              "      <td>0.000000</td>\n",
              "      <td>0.000000</td>\n",
              "      <td>0.053848</td>\n",
              "      <td>0.000000</td>\n",
              "      <td>0.000000</td>\n",
              "      <td>0.0</td>\n",
              "      <td>...</td>\n",
              "      <td>0.000000</td>\n",
              "      <td>0.000000</td>\n",
              "      <td>0.000000</td>\n",
              "      <td>0.049783</td>\n",
              "      <td>0.051598</td>\n",
              "      <td>0.039221</td>\n",
              "      <td>0.000000</td>\n",
              "      <td>0.046165</td>\n",
              "      <td>0.000000</td>\n",
              "      <td>0.078512</td>\n",
              "    </tr>\n",
              "    <tr>\n",
              "      <th>23</th>\n",
              "      <td>0.086979</td>\n",
              "      <td>0.060365</td>\n",
              "      <td>0.080126</td>\n",
              "      <td>0.112185</td>\n",
              "      <td>0.040917</td>\n",
              "      <td>0.045564</td>\n",
              "      <td>0.056665</td>\n",
              "      <td>0.000000</td>\n",
              "      <td>0.000000</td>\n",
              "      <td>0.0</td>\n",
              "      <td>...</td>\n",
              "      <td>0.000000</td>\n",
              "      <td>0.000000</td>\n",
              "      <td>0.000000</td>\n",
              "      <td>0.052403</td>\n",
              "      <td>0.086642</td>\n",
              "      <td>0.083480</td>\n",
              "      <td>0.000000</td>\n",
              "      <td>0.149441</td>\n",
              "      <td>0.078512</td>\n",
              "      <td>0.000000</td>\n",
              "    </tr>\n",
              "  </tbody>\n",
              "</table>\n",
              "<p>24 rows × 24 columns</p>\n",
              "</div>\n",
              "      <button class=\"colab-df-convert\" onclick=\"convertToInteractive('df-ebe45e05-904b-41ec-bb48-4bdbb23fb241')\"\n",
              "              title=\"Convert this dataframe to an interactive table.\"\n",
              "              style=\"display:none;\">\n",
              "        \n",
              "  <svg xmlns=\"http://www.w3.org/2000/svg\" height=\"24px\"viewBox=\"0 0 24 24\"\n",
              "       width=\"24px\">\n",
              "    <path d=\"M0 0h24v24H0V0z\" fill=\"none\"/>\n",
              "    <path d=\"M18.56 5.44l.94 2.06.94-2.06 2.06-.94-2.06-.94-.94-2.06-.94 2.06-2.06.94zm-11 1L8.5 8.5l.94-2.06 2.06-.94-2.06-.94L8.5 2.5l-.94 2.06-2.06.94zm10 10l.94 2.06.94-2.06 2.06-.94-2.06-.94-.94-2.06-.94 2.06-2.06.94z\"/><path d=\"M17.41 7.96l-1.37-1.37c-.4-.4-.92-.59-1.43-.59-.52 0-1.04.2-1.43.59L10.3 9.45l-7.72 7.72c-.78.78-.78 2.05 0 2.83L4 21.41c.39.39.9.59 1.41.59.51 0 1.02-.2 1.41-.59l7.78-7.78 2.81-2.81c.8-.78.8-2.07 0-2.86zM5.41 20L4 18.59l7.72-7.72 1.47 1.35L5.41 20z\"/>\n",
              "  </svg>\n",
              "      </button>\n",
              "      \n",
              "  <style>\n",
              "    .colab-df-container {\n",
              "      display:flex;\n",
              "      flex-wrap:wrap;\n",
              "      gap: 12px;\n",
              "    }\n",
              "\n",
              "    .colab-df-convert {\n",
              "      background-color: #E8F0FE;\n",
              "      border: none;\n",
              "      border-radius: 50%;\n",
              "      cursor: pointer;\n",
              "      display: none;\n",
              "      fill: #1967D2;\n",
              "      height: 32px;\n",
              "      padding: 0 0 0 0;\n",
              "      width: 32px;\n",
              "    }\n",
              "\n",
              "    .colab-df-convert:hover {\n",
              "      background-color: #E2EBFA;\n",
              "      box-shadow: 0px 1px 2px rgba(60, 64, 67, 0.3), 0px 1px 3px 1px rgba(60, 64, 67, 0.15);\n",
              "      fill: #174EA6;\n",
              "    }\n",
              "\n",
              "    [theme=dark] .colab-df-convert {\n",
              "      background-color: #3B4455;\n",
              "      fill: #D2E3FC;\n",
              "    }\n",
              "\n",
              "    [theme=dark] .colab-df-convert:hover {\n",
              "      background-color: #434B5C;\n",
              "      box-shadow: 0px 1px 3px 1px rgba(0, 0, 0, 0.15);\n",
              "      filter: drop-shadow(0px 1px 2px rgba(0, 0, 0, 0.3));\n",
              "      fill: #FFFFFF;\n",
              "    }\n",
              "  </style>\n",
              "\n",
              "      <script>\n",
              "        const buttonEl =\n",
              "          document.querySelector('#df-ebe45e05-904b-41ec-bb48-4bdbb23fb241 button.colab-df-convert');\n",
              "        buttonEl.style.display =\n",
              "          google.colab.kernel.accessAllowed ? 'block' : 'none';\n",
              "\n",
              "        async function convertToInteractive(key) {\n",
              "          const element = document.querySelector('#df-ebe45e05-904b-41ec-bb48-4bdbb23fb241');\n",
              "          const dataTable =\n",
              "            await google.colab.kernel.invokeFunction('convertToInteractive',\n",
              "                                                     [key], {});\n",
              "          if (!dataTable) return;\n",
              "\n",
              "          const docLinkHtml = 'Like what you see? Visit the ' +\n",
              "            '<a target=\"_blank\" href=https://colab.research.google.com/notebooks/data_table.ipynb>data table notebook</a>'\n",
              "            + ' to learn more about interactive tables.';\n",
              "          element.innerHTML = '';\n",
              "          dataTable['output_type'] = 'display_data';\n",
              "          await google.colab.output.renderOutput(dataTable, element);\n",
              "          const docLink = document.createElement('div');\n",
              "          docLink.innerHTML = docLinkHtml;\n",
              "          element.appendChild(docLink);\n",
              "        }\n",
              "      </script>\n",
              "    </div>\n",
              "  </div>\n",
              "  "
            ]
          },
          "metadata": {},
          "execution_count": 60
        }
      ]
    },
    {
      "cell_type": "code",
      "source": [
        "grafo_tfidf = nx.from_numpy_array(matriz_similaridade_tfidf)"
      ],
      "metadata": {
        "id": "U1oFUKczjbTi"
      },
      "execution_count": null,
      "outputs": []
    },
    {
      "cell_type": "code",
      "source": [
        "nx.pagerank(grafo_tfidf)"
      ],
      "metadata": {
        "colab": {
          "base_uri": "https://localhost:8080/"
        },
        "id": "tIzI02i-jbWB",
        "outputId": "1c799269-9009-432a-ec30-4917d95e10fe"
      },
      "execution_count": null,
      "outputs": [
        {
          "output_type": "execute_result",
          "data": {
            "text/plain": [
              "{0: 0.05758376107004353,\n",
              " 1: 0.049144204298186694,\n",
              " 2: 0.07477088421526565,\n",
              " 3: 0.038789261304395695,\n",
              " 4: 0.02774903184432527,\n",
              " 5: 0.0643024987876595,\n",
              " 6: 0.05772978693584098,\n",
              " 7: 0.07506149604625553,\n",
              " 8: 0.06082456559630635,\n",
              " 9: 0.006479481641468792,\n",
              " 10: 0.020402398932465392,\n",
              " 11: 0.02153571536602076,\n",
              " 12: 0.0344546991034485,\n",
              " 13: 0.024538109034475085,\n",
              " 14: 0.04214085645944586,\n",
              " 15: 0.03805772834019138,\n",
              " 16: 0.04504334301079841,\n",
              " 17: 0.0658873403749851,\n",
              " 18: 0.041528081788428865,\n",
              " 19: 0.05202899731811837,\n",
              " 20: 0.009675331511407391,\n",
              " 21: 0.03275682216353686,\n",
              " 22: 0.017753154209681214,\n",
              " 23: 0.0417624506472486}"
            ]
          },
          "metadata": {},
          "execution_count": 63
        }
      ]
    },
    {
      "cell_type": "code",
      "source": [
        "sents_scores_tfidf = nx.pagerank(grafo)"
      ],
      "metadata": {
        "id": "mVOQy97Fmz2p"
      },
      "execution_count": null,
      "outputs": []
    },
    {
      "cell_type": "code",
      "source": [
        "scores_sorted_tfidf  = dict(sorted(sents_scores_tfidf.items(),key = operator.itemgetter(1),reverse = True))"
      ],
      "metadata": {
        "id": "wGynfqpMjbZG"
      },
      "execution_count": null,
      "outputs": []
    },
    {
      "cell_type": "code",
      "source": [
        "' '.join([texto_sents[id_sent] for id_sent in sorted(list(scores_sorted_tfidf )[:5])])"
      ],
      "metadata": {
        "colab": {
          "base_uri": "https://localhost:8080/",
          "height": 104
        },
        "id": "ZbMpJtndmkgA",
        "outputId": "035f7ab7-c5a2-40ee-e127-54b2bf6dd474"
      },
      "execution_count": null,
      "outputs": [
        {
          "output_type": "execute_result",
          "data": {
            "text/plain": [
              "'A Rússia anunciou que vai restringir o acesso ao Instagram na próxima segunda-feira (14) como resposta à mudança de política para discurso de ódio da Meta, controladora do Instagram e também das plataformas Facebook e WhatsApp. Os russos usam muito mais o Instagram do que o Facebook, a rede social com mais usuários no mundo, segundo dados da consultoria eMarketer publicados pela agência France Presse. O Instagram não divulga dados de usuários por país, mas, na sexta, Mosseri postou que são 80 milhões na Rússia. \"Essa decisão cortará 80 milhões na Rússia uns dos outros e do resto do mundo, já que cerca de 80% das pessoas na Rússia seguem uma conta do Instagram fora de seu país. A decisão é uma resposta à mudança de política sobre discurso de ódio da Meta, controladora do Facebook, do WhatsApp e do Instagram.'"
            ],
            "application/vnd.google.colaboratory.intrinsic+json": {
              "type": "string"
            }
          },
          "metadata": {},
          "execution_count": 68
        }
      ]
    },
    {
      "cell_type": "markdown",
      "metadata": {
        "id": "GW122tJlIxN8"
      },
      "source": [
        "<b> Atividade </b>\n",
        "\n",
        "16) Faça uma comparação dos resultados de sumarização obtidos pelas técnicas de Bag of Words e TFIDF, explicitando as diferenças observadas de forma concreta e exemplificando suas análises com frases dos textos."
      ]
    },
    {
      "cell_type": "code",
      "source": [
        "' '.join([texto_sents[id_sent] for id_sent in sorted(list(scores_sorted)[:5])])"
      ],
      "metadata": {
        "colab": {
          "base_uri": "https://localhost:8080/",
          "height": 104
        },
        "id": "xAYvR92_vHlF",
        "outputId": "43ea7c9d-0a34-4da8-f1da-4b11cc55fea5"
      },
      "execution_count": null,
      "outputs": [
        {
          "output_type": "execute_result",
          "data": {
            "text/plain": [
              "'A Rússia anunciou que vai restringir o acesso ao Instagram na próxima segunda-feira (14) como resposta à mudança de política para discurso de ódio da Meta, controladora do Instagram e também das plataformas Facebook e WhatsApp. Os russos usam muito mais o Instagram do que o Facebook, a rede social com mais usuários no mundo, segundo dados da consultoria eMarketer publicados pela agência France Presse. O Instagram não divulga dados de usuários por país, mas, na sexta, Mosseri postou que são 80 milhões na Rússia. \"Essa decisão cortará 80 milhões na Rússia uns dos outros e do resto do mundo, já que cerca de 80% das pessoas na Rússia seguem uma conta do Instagram fora de seu país. A decisão é uma resposta à mudança de política sobre discurso de ódio da Meta, controladora do Facebook, do WhatsApp e do Instagram.'"
            ],
            "application/vnd.google.colaboratory.intrinsic+json": {
              "type": "string"
            }
          },
          "metadata": {},
          "execution_count": 69
        }
      ]
    },
    {
      "cell_type": "code",
      "metadata": {
        "id": "S48MAugpIxN9",
        "colab": {
          "base_uri": "https://localhost:8080/",
          "height": 104
        },
        "outputId": "d3cf6517-0bfd-4e60-91b3-90db84909330"
      },
      "source": [
        "' '.join([texto_sents[id_sent] for id_sent in sorted(list(scores_sorted_tfidf )[:5])])"
      ],
      "execution_count": null,
      "outputs": [
        {
          "output_type": "execute_result",
          "data": {
            "text/plain": [
              "'A Rússia anunciou que vai restringir o acesso ao Instagram na próxima segunda-feira (14) como resposta à mudança de política para discurso de ódio da Meta, controladora do Instagram e também das plataformas Facebook e WhatsApp. Os russos usam muito mais o Instagram do que o Facebook, a rede social com mais usuários no mundo, segundo dados da consultoria eMarketer publicados pela agência France Presse. O Instagram não divulga dados de usuários por país, mas, na sexta, Mosseri postou que são 80 milhões na Rússia. \"Essa decisão cortará 80 milhões na Rússia uns dos outros e do resto do mundo, já que cerca de 80% das pessoas na Rússia seguem uma conta do Instagram fora de seu país. A decisão é uma resposta à mudança de política sobre discurso de ódio da Meta, controladora do Facebook, do WhatsApp e do Instagram.'"
            ],
            "application/vnd.google.colaboratory.intrinsic+json": {
              "type": "string"
            }
          },
          "metadata": {},
          "execution_count": 70
        }
      ]
    },
    {
      "cell_type": "markdown",
      "source": [
        "A utilização das duas técnicas resultou em sumários semelhantes."
      ],
      "metadata": {
        "id": "WPt50I8GvUxK"
      }
    },
    {
      "cell_type": "markdown",
      "metadata": {
        "id": "FM1YVoWKIxOB"
      },
      "source": [
        "<b> Desafio! (opcional, valendo pontos extras) </b>\n",
        "\n",
        "Implemente e analise os resultados de uma solução que faça a sumarização dos textos utilizando Word Embeddings + WMD"
      ]
    },
    {
      "cell_type": "code",
      "metadata": {
        "id": "60kbPHNxIxOC"
      },
      "source": [
        ""
      ],
      "execution_count": null,
      "outputs": []
    }
  ]
}